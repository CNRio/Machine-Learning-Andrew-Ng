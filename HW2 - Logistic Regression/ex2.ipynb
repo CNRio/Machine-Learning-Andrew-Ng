{
 "cells": [
  {
   "cell_type": "code",
   "execution_count": 1,
   "metadata": {},
   "outputs": [],
   "source": [
    "# Import libraries\n",
    "import numpy as np\n",
    "import matplotlib.pyplot as plt\n",
    "\n",
    "from scipy.optimize import minimize\n",
    "from sklearn.preprocessing import PolynomialFeatures"
   ]
  },
  {
   "cell_type": "code",
   "execution_count": 2,
   "metadata": {},
   "outputs": [],
   "source": [
    "def load_data(file, delimiter):\n",
    "    data = np.loadtxt(file, delimiter=delimiter)\n",
    "    print('Shape: ', data.shape)\n",
    "    print('First row: ', data[1, :])\n",
    "    \n",
    "    return data"
   ]
  },
  {
   "cell_type": "markdown",
   "metadata": {},
   "source": [
    "### 1.1 Visualizing the data"
   ]
  },
  {
   "cell_type": "code",
   "execution_count": 3,
   "metadata": {},
   "outputs": [],
   "source": [
    "def plot_data(data, label_x, label_y, label_pos, label_neg, axes=None):\n",
    "    # Find indices of positive and negative examples\n",
    "    pos = data[:,2] == 1\n",
    "    neg = data[:,2] == 0\n",
    "    \n",
    "    # Plot examples\n",
    "    if axes == None:\n",
    "        axes = plt.gca()\n",
    "    axes.scatter(data[pos][:,0], data[pos][:,1], label=label_pos, marker='+', color='k', linewidth=2)\n",
    "    axes.scatter(data[neg][:,0], data[neg][:,1], label=label_neg, marker='o', color='y')\n",
    "    axes.set_xlabel(label_x)\n",
    "    axes.set_ylabel(label_y)\n",
    "    axes.legend()"
   ]
  },
  {
   "cell_type": "markdown",
   "metadata": {},
   "source": [
    "### 1.2.1 Warm-up: sigmoid function"
   ]
  },
  {
   "cell_type": "code",
   "execution_count": 4,
   "metadata": {},
   "outputs": [
    {
     "name": "stdout",
     "output_type": "stream",
     "text": [
      "Shape:  (100, 3)\n",
      "First row:  [30.28671077 43.89499752  0.        ]\n"
     ]
    }
   ],
   "source": [
    "data = load_data('./ex2data1.txt', ',')"
   ]
  },
  {
   "cell_type": "code",
   "execution_count": 5,
   "metadata": {},
   "outputs": [
    {
     "data": {
      "image/png": "[encoded data removed]",
      "text/plain": [
       "<Figure size 432x288 with 1 Axes>"
      ]
     },
     "metadata": {
      "needs_background": "light"
     },
     "output_type": "display_data"
    }
   ],
   "source": [
    "plot_data(data, 'Exam 1 score', 'Exam 2 score', 'Admitted', 'Not admitted')"
   ]
  },
  {
   "cell_type": "code",
   "execution_count": 6,
   "metadata": {},
   "outputs": [],
   "source": [
    "def sigmoid(z):\n",
    "    return (1 / (1 + np.exp(-z)))"
   ]
  },
  {
   "cell_type": "code",
   "execution_count": 7,
   "metadata": {},
   "outputs": [],
   "source": [
    "def test_sigmoid():\n",
    "    print(sigmoid(0))\n",
    "    print(sigmoid(100))\n",
    "    print(sigmoid(np.zeros(2)))"
   ]
  },
  {
   "cell_type": "code",
   "execution_count": 8,
   "metadata": {},
   "outputs": [
    {
     "name": "stdout",
     "output_type": "stream",
     "text": [
      "0.5\n",
      "1.0\n",
      "[0.5 0.5]\n"
     ]
    }
   ],
   "source": [
    "test_sigmoid()"
   ]
  },
  {
   "cell_type": "markdown",
   "metadata": {},
   "source": [
    "### 1.2.2 Cost function and gradient"
   ]
  },
  {
   "cell_type": "code",
   "execution_count": 9,
   "metadata": {},
   "outputs": [],
   "source": [
    "X = np.c_[np.ones((data.shape[0],1)), data[:,0:2]]\n",
    "y = np.c_[data[:,2]]"
   ]
  },
  {
   "cell_type": "code",
   "execution_count": 10,
   "metadata": {},
   "outputs": [],
   "source": [
    "def cost_function(theta, X, y):\n",
    "    m = len(y)\n",
    "    hx = sigmoid(theta.dot(X.T))\n",
    "    J = (-1/m)*(y.T.dot(np.log(hx)) + (1-y).T.dot(np.log(1-hx)))\n",
    "    \n",
    "    return J"
   ]
  },
  {
   "cell_type": "code",
   "execution_count": 11,
   "metadata": {},
   "outputs": [],
   "source": [
    "def gradient(theta, X, y):\n",
    "    m = len(y)\n",
    "    hx = sigmoid(theta.dot(X.T))\n",
    "    grad = (1/m)*((hx - y.T).dot(X))\n",
    "    \n",
    "    return grad.flatten()"
   ]
  },
  {
   "cell_type": "code",
   "execution_count": 12,
   "metadata": {},
   "outputs": [],
   "source": [
    "theta = np.zeros((X.shape[1]))\n",
    "cost = cost_function(theta, X, y)\n",
    "grad = gradient(theta, X, y)"
   ]
  },
  {
   "cell_type": "code",
   "execution_count": 13,
   "metadata": {},
   "outputs": [
    {
     "name": "stdout",
     "output_type": "stream",
     "text": [
      "[0.69314718]\n",
      "[ -0.1        -12.00921659 -11.26284221]\n"
     ]
    }
   ],
   "source": [
    "print(cost)\n",
    "print(grad)"
   ]
  },
  {
   "cell_type": "markdown",
   "metadata": {},
   "source": [
    "### 1.2.3 Learning parameters using fminunc"
   ]
  },
  {
   "cell_type": "code",
   "execution_count": 14,
   "metadata": {},
   "outputs": [
    {
     "name": "stdout",
     "output_type": "stream",
     "text": [
      "Optimization terminated successfully.\n",
      "         Current function value: 0.203498\n",
      "         Iterations: 157\n",
      "         Function evaluations: 287\n",
      " final_simplex: (array([[-25.16130062,   0.20623142,   0.20147143],\n",
      "       [-25.16135807,   0.20623176,   0.20147199],\n",
      "       [-25.1613519 ,   0.20623203,   0.20147171],\n",
      "       [-25.16137971,   0.20623202,   0.20147188]]), array([0.2034977, 0.2034977, 0.2034977, 0.2034977]))\n",
      "           fun: 0.2034977015902151\n",
      "       message: 'Optimization terminated successfully.'\n",
      "          nfev: 287\n",
      "           nit: 157\n",
      "        status: 0\n",
      "       success: True\n",
      "             x: array([-25.16130062,   0.20623142,   0.20147143])\n"
     ]
    }
   ],
   "source": [
    "res = minimize(cost_function, theta, method='nelder-mead', args=(X,y), options={'disp': True})\n",
    "print(res)"
   ]
  },
  {
   "cell_type": "code",
   "execution_count": 15,
   "metadata": {},
   "outputs": [],
   "source": [
    "def predict(theta, X, threshold=0.5):\n",
    "    p = sigmoid(X.dot(theta.T)) >= threshold\n",
    "    return (p.astype('int'))"
   ]
  },
  {
   "cell_type": "code",
   "execution_count": 16,
   "metadata": {},
   "outputs": [
    {
     "data": {
      "text/plain": [
       "0.7762915904112411"
      ]
     },
     "execution_count": 16,
     "metadata": {},
     "output_type": "execute_result"
    }
   ],
   "source": [
    "sigmoid(np.array([1, 45, 85]).dot(res.x.T))"
   ]
  },
  {
   "cell_type": "code",
   "execution_count": 17,
   "metadata": {},
   "outputs": [],
   "source": [
    "def plot_decision_boundary(theta, X, y):\n",
    "    # X is Mx3 matrix, where the first column is an all-ones column for the intercept.\n",
    "    if (X.shape[1] <= 3):\n",
    "        # Only need 2 points to define a line, so choose two endpoints\n",
    "        plot_x = np.array([np.min(X[:,1])-2, np.max(X[:,1])+2])\n",
    "        # Calculate the decision boundary line\n",
    "        plot_y = (-1/theta[2])*(theta[1]*plot_x + theta[0])\n",
    "        plt.plot(plot_x, plot_y)\n",
    "        plt.scatter(45, 85, c='r', s=20, label='(45, 85)')\n",
    "        plot_data(data, 'Exam 1 score', 'Exam 2 score', 'Admitted', 'Not admitted', plt.gca())"
   ]
  },
  {
   "cell_type": "code",
   "execution_count": 18,
   "metadata": {},
   "outputs": [
    {
     "data": {
      "image/png": "[encoded data removed]",
      "text/plain": [
       "<Figure size 432x288 with 1 Axes>"
      ]
     },
     "metadata": {
      "needs_background": "light"
     },
     "output_type": "display_data"
    }
   ],
   "source": [
    "plot_decision_boundary(res.x, X, y)"
   ]
  },
  {
   "cell_type": "markdown",
   "metadata": {},
   "source": [
    "### 2.1 Visualizing the data"
   ]
  },
  {
   "cell_type": "code",
   "execution_count": 19,
   "metadata": {},
   "outputs": [
    {
     "name": "stdout",
     "output_type": "stream",
     "text": [
      "Shape:  (118, 3)\n",
      "First row:  [-0.092742  0.68494   1.      ]\n"
     ]
    }
   ],
   "source": [
    "data2 = load_data('./ex2data2.txt', ',')"
   ]
  },
  {
   "cell_type": "code",
   "execution_count": 20,
   "metadata": {},
   "outputs": [
    {
     "data": {
      "image/png": "[encoded data removed]",
      "text/plain": [
       "<Figure size 432x288 with 1 Axes>"
      ]
     },
     "metadata": {
      "needs_background": "light"
     },
     "output_type": "display_data"
    }
   ],
   "source": [
    "plot_data(data2, 'Microchip Test 1', 'Microchip Test 2', 'y = 1, Accepted', 'y = 0, Rejected')"
   ]
  },
  {
   "cell_type": "markdown",
   "metadata": {},
   "source": [
    "### 2.2 Feature Mapping"
   ]
  },
  {
   "cell_type": "code",
   "execution_count": 21,
   "metadata": {},
   "outputs": [
    {
     "name": "stdout",
     "output_type": "stream",
     "text": [
      "(118, 28)\n"
     ]
    }
   ],
   "source": [
    "poly = PolynomialFeatures(6)\n",
    "m_X = poly.fit_transform(data2[:,0:2])\n",
    "y = np.c_[data2[:,2]]\n",
    "print(m_X.shape)"
   ]
  },
  {
   "cell_type": "markdown",
   "metadata": {},
   "source": [
    "### 2.3 Cost function and gradient"
   ]
  },
  {
   "cell_type": "code",
   "execution_count": 22,
   "metadata": {},
   "outputs": [],
   "source": [
    "def cost_function_reg(theta, X, y, lamb=1):\n",
    "    m = len(y)\n",
    "    hx = sigmoid(theta.dot(X.T))\n",
    "    J = (-1/m)*(y.T.dot(np.log(hx)) + (1-y).T.dot(np.log(1-hx))) + (lamb/(2*m))*np.sum(np.power(theta[1:],2))\n",
    "    \n",
    "    return J"
   ]
  },
  {
   "cell_type": "code",
   "execution_count": 23,
   "metadata": {},
   "outputs": [],
   "source": [
    "def gradient_reg(theta, X, y, lamb=1):\n",
    "    m = len(y)\n",
    "    hx = sigmoid(X.dot(theta.reshape(-1,1)))\n",
    "    grad = (1/m)*(hx-y).T.dot(X) + (lamb/m)*np.c_[[0], [theta[1:]]]\n",
    "    \n",
    "    return grad.flatten()"
   ]
  },
  {
   "cell_type": "code",
   "execution_count": 24,
   "metadata": {},
   "outputs": [],
   "source": [
    "theta = np.zeros((m_X.shape[1]), dtype=np.float128)\n",
    "lamb = 1\n",
    "cost = cost_function_reg(theta, m_X, y, lamb)\n",
    "grad = gradient_reg(theta, m_X, y)"
   ]
  },
  {
   "cell_type": "code",
   "execution_count": 25,
   "metadata": {},
   "outputs": [
    {
     "name": "stdout",
     "output_type": "stream",
     "text": [
      "[0.69314718]\n",
      "[8.47457627e-03 1.87880932e-02 7.77711864e-05 5.03446395e-02\n",
      " 1.15013308e-02 3.76648474e-02 1.83559872e-02 7.32393391e-03\n",
      " 8.19244468e-03 2.34764889e-02 3.93486234e-02 2.23923907e-03\n",
      " 1.28600503e-02 3.09593720e-03 3.93028171e-02 1.99707467e-02\n",
      " 4.32983232e-03 3.38643902e-03 5.83822078e-03 4.47629067e-03\n",
      " 3.10079849e-02 3.10312442e-02 1.09740238e-03 6.31570797e-03\n",
      " 4.08503006e-04 7.26504316e-03 1.37646175e-03 3.87936363e-02]\n"
     ]
    }
   ],
   "source": [
    "print(cost)\n",
    "print(grad)"
   ]
  },
  {
   "cell_type": "markdown",
   "metadata": {},
   "source": [
    "### 2.3.1 Learning parameters using fminunc"
   ]
  },
  {
   "cell_type": "code",
   "execution_count": 26,
   "metadata": {},
   "outputs": [
    {
     "name": "stdout",
     "output_type": "stream",
     "text": [
      "Optimization terminated successfully.\n",
      "         Current function value: 0.529003\n",
      "         Iterations: 47\n",
      "         Function evaluations: 1440\n",
      "         Gradient evaluations: 48\n",
      "      fun: 0.5290027422869821\n",
      " hess_inv: array([[ 1.07914494e+01,  1.00370556e+00,  1.21057384e+00,\n",
      "        -8.74613417e+00, -2.24476840e+00, -1.30928716e+01,\n",
      "         7.84292846e-01, -1.64458920e+00, -2.48373601e-01,\n",
      "        -6.52808738e-01, -4.71783887e+00,  2.58090045e+00,\n",
      "        -4.03086180e+00,  1.03693836e-01, -5.05427419e+00,\n",
      "        -6.82420970e-02, -2.45499815e-02,  8.83293109e-01,\n",
      "        -1.68341598e+00, -5.50854697e-01,  2.14265502e+00,\n",
      "        -2.31021874e+00,  2.03047269e+00, -1.59242293e+00,\n",
      "         1.32651851e+00, -1.98877488e+00,  2.80730370e-01,\n",
      "         5.99592040e-01],\n",
      "       [ 1.00370556e+00,  1.28889758e+01,  4.31839978e+00,\n",
      "        -6.95995325e+00, -7.08201696e+00, -3.93326053e-03,\n",
      "         1.69141497e+00,  7.17737769e-01,  2.99492641e+00,\n",
      "        -3.00897956e+00, -3.78374728e+00, -2.07470272e-01,\n",
      "         9.68381528e-01, -1.53929643e+00, -7.57667392e-01,\n",
      "        -5.27875525e-01,  5.65485733e-01,  1.54976066e+00,\n",
      "        -4.69577890e-01,  1.16892728e+00, -2.13286368e+00,\n",
      "        -2.19538245e+00,  4.55054054e-01,  4.07716789e-01,\n",
      "         3.65862584e-01,  3.50580261e-01, -2.11935297e-01,\n",
      "        -3.00464761e-01],\n",
      "       [ 1.21057384e+00,  4.31839978e+00,  1.78598824e+01,\n",
      "        -3.46271024e+00, -7.87285271e+00, -4.52934788e+00,\n",
      "        -7.25922533e-01,  3.97179572e+00,  4.18902983e-01,\n",
      "        -2.98089211e+00, -1.86202717e+00, -6.55619956e-01,\n",
      "         1.58077408e+00, -1.74101773e+00, -6.56885374e+00,\n",
      "        -1.49400903e+00,  1.74794402e+00,  8.03371524e-01,\n",
      "         3.72737872e-01,  1.54049618e-01, -6.07269882e+00,\n",
      "        -1.20593210e+00,  2.09337665e-01,  7.73313212e-01,\n",
      "         2.22626618e-01,  3.14451558e-01, -2.35552643e-01,\n",
      "        -6.68691871e+00],\n",
      "       [-8.74613417e+00, -6.95995325e+00, -3.46271024e+00,\n",
      "         2.21859885e+01,  9.71595821e+00,  1.21718063e+01,\n",
      "         2.15535683e+00,  5.52642333e-01, -3.80048039e+00,\n",
      "         2.93565741e+00,  1.13586296e+01, -3.74352729e+00,\n",
      "         3.18517165e+00,  1.26171236e+00,  2.16360163e+00,\n",
      "         3.65446292e+00, -1.25831248e+00, -2.96367748e+00,\n",
      "         2.19602655e+00, -1.34696711e+00, -3.54345411e+00,\n",
      "         6.04968082e+00, -3.52152912e+00,  1.26814247e+00,\n",
      "        -2.34174220e+00,  1.43642540e+00, -3.42474790e-01,\n",
      "        -5.61563481e+00],\n",
      "       [-2.24476840e+00, -7.08201696e+00, -7.87285271e+00,\n",
      "         9.71595821e+00,  3.81871157e+01,  1.06043751e+01,\n",
      "         3.21377005e+00, -4.24610782e+00, -2.61233808e+00,\n",
      "         1.03102021e+01, -2.66910975e-01,  2.34700434e+00,\n",
      "        -4.79499393e+00,  1.06772153e+01,  4.40090647e-01,\n",
      "         2.07781099e+00, -3.97182336e+00, -4.32934667e+00,\n",
      "         1.12896486e+00, -3.10310018e-01, -2.91919545e-01,\n",
      "        -3.83208193e+00, -1.77058801e+00, -2.71456728e+00,\n",
      "        -8.38183645e-01, -2.06302594e+00,  3.47925030e+00,\n",
      "        -8.72116758e+00],\n",
      "       [-1.30928716e+01, -3.93326053e-03, -4.52934788e+00,\n",
      "         1.21718063e+01,  1.06043751e+01,  4.44930047e+01,\n",
      "        -4.35467947e+00,  6.92819278e-02, -8.25309601e-01,\n",
      "        -3.89864577e-01, -1.02312232e+00, -9.54212473e+00,\n",
      "         7.81082880e+00,  4.79151963e-01,  8.66380966e+00,\n",
      "        -5.27410120e+00, -3.49966933e+00, -4.74146274e+00,\n",
      "         3.36430873e+00,  6.05767112e-01, -1.54393566e+01,\n",
      "        -6.62695097e+00, -7.97314618e+00,  2.13103861e+00,\n",
      "        -5.02702346e+00,  3.68109015e+00, -1.00599860e+00,\n",
      "        -1.43876186e+01],\n",
      "       [ 7.84292846e-01,  1.69141497e+00, -7.25922533e-01,\n",
      "         2.15535683e+00,  3.21377005e+00, -4.35467947e+00,\n",
      "         1.02054904e+01, -7.35083634e+00, -8.94383264e+00,\n",
      "         8.22619524e+00, -5.05232718e-01, -3.01594583e+00,\n",
      "        -5.95283516e+00, -1.38030102e+00, -3.05464026e+00,\n",
      "         6.50559279e+00, -4.89859403e+00, -3.49591158e+00,\n",
      "        -1.48994225e+00, -5.79943704e+00,  3.60921115e+00,\n",
      "        -1.10917858e+00, -2.52349220e+00, -2.82199663e+00,\n",
      "        -1.96016213e+00, -2.70891765e+00, -2.39762095e+00,\n",
      "        -3.81424949e+00],\n",
      "       [-1.64458920e+00,  7.17737769e-01,  3.97179572e+00,\n",
      "         5.52642333e-01, -4.24610782e+00,  6.92819278e-02,\n",
      "        -7.35083634e+00,  9.95193755e+00,  9.83772664e+00,\n",
      "        -8.37273090e+00,  3.83226071e+00,  4.08040363e+00,\n",
      "         6.53037163e+00,  1.55689889e+00,  2.02435408e+00,\n",
      "        -4.58206482e+00,  6.03560474e+00,  4.39133834e+00,\n",
      "         1.71085537e+00,  6.25594061e+00, -2.59504814e+00,\n",
      "         4.27070039e+00,  3.42834119e+00,  3.32761054e+00,\n",
      "         2.56621541e+00,  2.90470121e+00,  2.77505639e+00,\n",
      "         4.99400044e+00],\n",
      "       [-2.48373601e-01,  2.99492641e+00,  4.18902983e-01,\n",
      "        -3.80048039e+00, -2.61233808e+00, -8.25309601e-01,\n",
      "        -8.94383264e+00,  9.83772664e+00,  1.49798450e+01,\n",
      "        -9.86582373e+00,  2.13179133e+00,  6.89627489e+00,\n",
      "         6.71100735e+00,  3.21307767e+00,  4.29852259e+00,\n",
      "        -6.03280402e+00,  7.31332964e+00,  6.11402042e+00,\n",
      "         1.54421434e+00,  8.63227242e+00, -3.83723566e-01,\n",
      "         3.81234449e+00,  5.32356426e+00,  3.50438003e+00,\n",
      "         3.92854722e+00,  3.11144325e+00,  4.15216383e+00,\n",
      "         9.63890464e+00],\n",
      "       [-6.52808738e-01, -3.00897956e+00, -2.98089211e+00,\n",
      "         2.93565741e+00,  1.03102021e+01, -3.89864577e-01,\n",
      "         8.22619524e+00, -8.37273090e+00, -9.86582373e+00,\n",
      "         1.28442926e+01, -1.13892482e+00, -2.50448702e+00,\n",
      "        -6.91256640e+00,  4.42542889e-01, -3.73895165e-01,\n",
      "         6.06792578e+00, -5.69462244e+00, -4.48476602e+00,\n",
      "        -1.19113869e+00, -6.06736245e+00,  5.93329047e+00,\n",
      "        -2.16272974e+00, -2.80579054e+00, -3.41028796e+00,\n",
      "        -2.14302615e+00, -2.96159058e+00, -1.94643549e+00,\n",
      "        -2.68741062e+00],\n",
      "       [-4.71783887e+00, -3.78374728e+00, -1.86202717e+00,\n",
      "         1.13586296e+01, -2.66910975e-01, -1.02312232e+00,\n",
      "        -5.05232718e-01,  3.83226071e+00,  2.13179133e+00,\n",
      "        -1.13892482e+00,  1.11731633e+01,  1.30321294e+00,\n",
      "         3.50449886e+00,  4.97837558e-01,  2.86545184e+00,\n",
      "         2.12507544e+00,  2.61901456e+00,  1.35103607e+00,\n",
      "         1.31590265e+00,  1.62678373e+00,  2.45151285e+00,\n",
      "         8.38157838e+00,  1.10050763e+00,  1.99295264e+00,\n",
      "         7.16347813e-01,  1.66511594e+00,  7.74887647e-01,\n",
      "         5.28089132e+00],\n",
      "       [ 2.58090045e+00, -2.07470272e-01, -6.55619956e-01,\n",
      "        -3.74352729e+00,  2.34700434e+00, -9.54212473e+00,\n",
      "        -3.01594583e+00,  4.08040363e+00,  6.89627489e+00,\n",
      "        -2.50448702e+00,  1.30321294e+00,  7.56502616e+00,\n",
      "         4.74303751e-01,  3.32035757e+00,  1.08711842e+00,\n",
      "        -1.32430174e+00,  3.94019857e+00,  3.65107787e+00,\n",
      "         8.43584249e-02,  4.16609254e+00,  4.99372428e+00,\n",
      "         3.13606670e+00,  4.60427091e+00,  7.27058543e-01,\n",
      "         3.22290829e+00,  2.99331514e-01,  2.93329806e+00,\n",
      "         8.58685861e+00],\n",
      "       [-4.03086180e+00,  9.68381528e-01,  1.58077408e+00,\n",
      "         3.18517165e+00, -4.79499393e+00,  7.81082880e+00,\n",
      "        -5.95283516e+00,  6.53037163e+00,  6.71100735e+00,\n",
      "        -6.91256640e+00,  3.50449886e+00,  4.74303751e-01,\n",
      "         7.74484420e+00, -8.00042724e-02,  3.44049776e+00,\n",
      "        -3.96254143e+00,  3.83385353e+00,  2.47783201e+00,\n",
      "         1.78114425e+00,  4.36996097e+00, -4.57767595e+00,\n",
      "         2.80129201e+00,  8.40645106e-01,  3.10873845e+00,\n",
      "         7.58432014e-01,  3.04980166e+00,  1.24808440e+00,\n",
      "         1.87459896e+00],\n",
      "       [ 1.03693836e-01, -1.53929643e+00, -1.74101773e+00,\n",
      "         1.26171236e+00,  1.06772153e+01,  4.79151963e-01,\n",
      "        -1.38030102e+00,  1.55689889e+00,  3.21307767e+00,\n",
      "         4.42542889e-01,  4.97837558e-01,  3.32035757e+00,\n",
      "        -8.00042724e-02,  5.38122391e+00,  6.09200320e-01,\n",
      "        -8.49532739e-01,  1.06435061e+00,  6.30377415e-01,\n",
      "         6.25971995e-01,  2.35449414e+00,  4.76292576e-01,\n",
      "         1.58897201e-01,  1.43537176e+00,  3.85298249e-03,\n",
      "         1.16548095e+00, -3.13462031e-03,  2.40598887e+00,\n",
      "         4.96694838e-01],\n",
      "       [-5.05427419e+00, -7.57667392e-01, -6.56885374e+00,\n",
      "         2.16360163e+00,  4.40090647e-01,  8.66380966e+00,\n",
      "        -3.05464026e+00,  2.02435408e+00,  4.29852259e+00,\n",
      "        -3.73895165e-01,  2.86545184e+00,  1.08711842e+00,\n",
      "         3.44049776e+00,  6.09200320e-01,  9.70507668e+00,\n",
      "        -1.38296235e+00,  1.64583070e+00,  1.46304960e+00,\n",
      "         9.80494780e-01,  2.66990969e+00,  3.82601223e+00,\n",
      "         2.63562216e+00,  8.16767413e-01,  1.56183065e+00,\n",
      "         5.63846915e-01,  1.95094619e+00,  7.52003427e-01,\n",
      "         8.68146254e+00],\n",
      "       [-6.82420970e-02, -5.27875525e-01, -1.49400903e+00,\n",
      "         3.65446292e+00,  2.07781099e+00, -5.27410120e+00,\n",
      "         6.50559279e+00, -4.58206482e+00, -6.03280402e+00,\n",
      "         6.06792578e+00,  2.12507544e+00, -1.32430174e+00,\n",
      "        -3.96254143e+00, -8.49532739e-01, -1.38296235e+00,\n",
      "         6.40535461e+00, -2.80423393e+00, -2.02856713e+00,\n",
      "        -9.37455330e-01, -3.88726548e+00,  4.58565521e+00,\n",
      "         1.55582224e+00, -1.14243379e+00, -1.72352155e+00,\n",
      "        -9.94036654e-01, -1.75473427e+00, -1.51208616e+00,\n",
      "        -1.06725827e-01],\n",
      "       [-2.45499815e-02,  5.65485733e-01,  1.74794402e+00,\n",
      "        -1.25831248e+00, -3.97182336e+00, -3.49966933e+00,\n",
      "        -4.89859403e+00,  6.03560474e+00,  7.31332964e+00,\n",
      "        -5.69462244e+00,  2.61901456e+00,  3.94019857e+00,\n",
      "         3.83385353e+00,  1.06435061e+00,  1.64583070e+00,\n",
      "        -2.80423393e+00,  5.55036481e+00,  3.66253070e+00,\n",
      "         8.21967815e-01,  4.49220511e+00,  5.10739490e-01,\n",
      "         3.61232885e+00,  3.28870393e+00,  2.12614533e+00,\n",
      "         2.35190175e+00,  1.74468013e+00,  2.06003155e+00,\n",
      "         6.17783176e+00],\n",
      "       [ 8.83293109e-01,  1.54976066e+00,  8.03371524e-01,\n",
      "        -2.96367748e+00, -4.32934667e+00, -4.74146274e+00,\n",
      "        -3.49591158e+00,  4.39133834e+00,  6.11402042e+00,\n",
      "        -4.48476602e+00,  1.35103607e+00,  3.65107787e+00,\n",
      "         2.47783201e+00,  6.30377415e-01,  1.46304960e+00,\n",
      "        -2.02856713e+00,  3.66253070e+00,  4.28947607e+00,\n",
      "         3.08376623e-01,  3.58948565e+00,  1.74097975e+00,\n",
      "         2.74840200e+00,  3.09660421e+00,  1.48799367e+00,\n",
      "         2.16621433e+00,  1.15822455e+00,  1.60224864e+00,\n",
      "         6.48311985e+00],\n",
      "       [-1.68341598e+00, -4.69577890e-01,  3.72737872e-01,\n",
      "         2.19602655e+00,  1.12896486e+00,  3.36430873e+00,\n",
      "        -1.48994225e+00,  1.71085537e+00,  1.54421434e+00,\n",
      "        -1.19113869e+00,  1.31590265e+00,  8.43584249e-02,\n",
      "         1.78114425e+00,  6.25971995e-01,  9.80494780e-01,\n",
      "        -9.37455330e-01,  8.21967815e-01,  3.08376623e-01,\n",
      "         1.68186019e+00,  1.14058377e+00, -1.58074860e+00,\n",
      "         7.06282299e-01, -2.80695870e-02,  7.76862647e-01,\n",
      "         5.89410742e-02,  8.05655179e-01,  5.30946722e-01,\n",
      "        -3.94947175e-01],\n",
      "       [-5.50854697e-01,  1.16892728e+00,  1.54049618e-01,\n",
      "        -1.34696711e+00, -3.10310018e-01,  6.05767112e-01,\n",
      "        -5.79943704e+00,  6.25594061e+00,  8.63227242e+00,\n",
      "        -6.06736245e+00,  1.62678373e+00,  4.16609254e+00,\n",
      "         4.36996097e+00,  2.35449414e+00,  2.66990969e+00,\n",
      "        -3.88726548e+00,  4.49220511e+00,  3.58948565e+00,\n",
      "         1.14058377e+00,  6.43480196e+00, -8.53810660e-01,\n",
      "         2.34351160e+00,  3.10093798e+00,  2.23410344e+00,\n",
      "         2.32518481e+00,  2.01503441e+00,  2.70944362e+00,\n",
      "         5.20545570e+00],\n",
      "       [ 2.14265502e+00, -2.13286368e+00, -6.07269882e+00,\n",
      "        -3.54345411e+00, -2.91919545e-01, -1.54393566e+01,\n",
      "         3.60921115e+00, -2.59504814e+00, -3.83723566e-01,\n",
      "         5.93329047e+00,  2.45151285e+00,  4.99372428e+00,\n",
      "        -4.57767595e+00,  4.76292576e-01,  3.82601223e+00,\n",
      "         4.58565521e+00,  5.10739490e-01,  1.74097975e+00,\n",
      "        -1.58074860e+00, -8.53810660e-01,  1.64818579e+01,\n",
      "         4.88629316e+00,  3.73473352e+00, -1.45154792e+00,\n",
      "         2.20413741e+00, -1.66474708e+00,  2.35802929e-01,\n",
      "         1.53314189e+01],\n",
      "       [-2.31021874e+00, -2.19538245e+00, -1.20593210e+00,\n",
      "         6.04968082e+00, -3.83208193e+00, -6.62695097e+00,\n",
      "        -1.10917858e+00,  4.27070039e+00,  3.81234449e+00,\n",
      "        -2.16272974e+00,  8.38157838e+00,  3.13606670e+00,\n",
      "         2.80129201e+00,  1.58897201e-01,  2.63562216e+00,\n",
      "         1.55582224e+00,  3.61232885e+00,  2.74840200e+00,\n",
      "         7.06282299e-01,  2.34351160e+00,  4.88629316e+00,\n",
      "         9.21873366e+00,  2.75731280e+00,  1.85645288e+00,\n",
      "         1.80049670e+00,  1.37321804e+00,  1.05519523e+00,\n",
      "         8.92912045e+00],\n",
      "       [ 2.03047269e+00,  4.55054054e-01,  2.09337665e-01,\n",
      "        -3.52152912e+00, -1.77058801e+00, -7.97314618e+00,\n",
      "        -2.52349220e+00,  3.42834119e+00,  5.32356426e+00,\n",
      "        -2.80579054e+00,  1.10050763e+00,  4.60427091e+00,\n",
      "         8.40645106e-01,  1.43537176e+00,  8.16767413e-01,\n",
      "        -1.14243379e+00,  3.28870393e+00,  3.09660421e+00,\n",
      "        -2.80695870e-02,  3.10093798e+00,  3.73473352e+00,\n",
      "         2.75731280e+00,  4.55181217e+00,  8.11331782e-01,\n",
      "         2.44750981e+00,  4.34941685e-01,  1.83019014e+00,\n",
      "         7.19901725e+00],\n",
      "       [-1.59242293e+00,  4.07716789e-01,  7.73313212e-01,\n",
      "         1.26814247e+00, -2.71456728e+00,  2.13103861e+00,\n",
      "        -2.82199663e+00,  3.32761054e+00,  3.50438003e+00,\n",
      "        -3.41028796e+00,  1.99295264e+00,  7.27058543e-01,\n",
      "         3.10873845e+00,  3.85298249e-03,  1.56183065e+00,\n",
      "        -1.72352155e+00,  2.12614533e+00,  1.48799367e+00,\n",
      "         7.76862647e-01,  2.23410344e+00, -1.45154792e+00,\n",
      "         1.85645288e+00,  8.11331782e-01,  2.50260606e+00,\n",
      "         6.28070513e-01,  1.40957025e+00,  7.10769904e-01,\n",
      "         1.83309866e+00],\n",
      "       [ 1.32651851e+00,  3.65862584e-01,  2.22626618e-01,\n",
      "        -2.34174220e+00, -8.38183645e-01, -5.02702346e+00,\n",
      "        -1.96016213e+00,  2.56621541e+00,  3.92854722e+00,\n",
      "        -2.14302615e+00,  7.16347813e-01,  3.22290829e+00,\n",
      "         7.58432014e-01,  1.16548095e+00,  5.63846915e-01,\n",
      "        -9.94036654e-01,  2.35190175e+00,  2.16621433e+00,\n",
      "         5.89410742e-02,  2.32518481e+00,  2.20413741e+00,\n",
      "         1.80049670e+00,  2.44750981e+00,  6.28070513e-01,\n",
      "         2.70485317e+00,  3.74130403e-01,  1.37860647e+00,\n",
      "         4.69395444e+00],\n",
      "       [-1.98877488e+00,  3.50580261e-01,  3.14451558e-01,\n",
      "         1.43642540e+00, -2.06302594e+00,  3.68109015e+00,\n",
      "        -2.70891765e+00,  2.90470121e+00,  3.11144325e+00,\n",
      "        -2.96159058e+00,  1.66511594e+00,  2.99331514e-01,\n",
      "         3.04980166e+00, -3.13462031e-03,  1.95094619e+00,\n",
      "        -1.75473427e+00,  1.74468013e+00,  1.15822455e+00,\n",
      "         8.05655179e-01,  2.01503441e+00, -1.66474708e+00,\n",
      "         1.37321804e+00,  4.34941685e-01,  1.40957025e+00,\n",
      "         3.74130403e-01,  2.40214492e+00,  5.78048385e-01,\n",
      "         1.36715356e+00],\n",
      "       [ 2.80730370e-01, -2.11935297e-01, -2.35552643e-01,\n",
      "        -3.42474790e-01,  3.47925030e+00, -1.00599860e+00,\n",
      "        -2.39762095e+00,  2.77505639e+00,  4.15216383e+00,\n",
      "        -1.94643549e+00,  7.74887647e-01,  2.93329806e+00,\n",
      "         1.24808440e+00,  2.40598887e+00,  7.52003427e-01,\n",
      "        -1.51208616e+00,  2.06003155e+00,  1.60224864e+00,\n",
      "         5.30946722e-01,  2.70944362e+00,  2.35802929e-01,\n",
      "         1.05519523e+00,  1.83019014e+00,  7.10769904e-01,\n",
      "         1.37860647e+00,  5.78048385e-01,  2.85075573e+00,\n",
      "         2.25654818e+00],\n",
      "       [ 5.99592040e-01, -3.00464761e-01, -6.68691871e+00,\n",
      "        -5.61563481e+00, -8.72116758e+00, -1.43876186e+01,\n",
      "        -3.81424949e+00,  4.99400044e+00,  9.63890464e+00,\n",
      "        -2.68741062e+00,  5.28089132e+00,  8.58685861e+00,\n",
      "         1.87459896e+00,  4.96694838e-01,  8.68146254e+00,\n",
      "        -1.06725827e-01,  6.17783176e+00,  6.48311985e+00,\n",
      "        -3.94947175e-01,  5.20545570e+00,  1.53314189e+01,\n",
      "         8.92912045e+00,  7.19901725e+00,  1.83309866e+00,\n",
      "         4.69395444e+00,  1.36715356e+00,  2.25654818e+00,\n",
      "         2.53697497e+01]], dtype=float128)\n",
      "      jac: array([-7.38698873e-07,  3.53596261e-06, -3.77829565e-07,  8.23517985e-06,\n",
      "       -2.33984611e-06, -3.43050124e-06, -3.37082383e-06,  3.98440170e-06,\n",
      "        2.10856160e-06,  2.60563320e-06, -2.07911580e-06, -3.10659743e-06,\n",
      "       -3.78642653e-06,  6.37188350e-07, -4.74112312e-07, -5.79038897e-06,\n",
      "        2.86496288e-06, -2.38506982e-06, -1.59754563e-07,  1.20879486e-06,\n",
      "        2.21346636e-06, -5.23852214e-06, -1.51687345e-06, -1.78843766e-06,\n",
      "       -1.19355900e-06, -1.69618943e-06,  1.00673788e-07,  4.15875547e-07])\n",
      "  message: 'Optimization terminated successfully.'\n",
      "     nfev: 1440\n",
      "      nit: 47\n",
      "     njev: 48\n",
      "   status: 0\n",
      "  success: True\n",
      "        x: array([ 1.27268737,  0.62557015,  1.18096649, -2.01919821, -0.91761468,\n",
      "       -1.43194198,  0.12375922, -0.36513086, -0.35703388, -0.17485805,\n",
      "       -1.45843771, -0.05129676, -0.61603964, -0.2746414 , -1.19282569,\n",
      "       -0.24270336, -0.20570022, -0.04499769, -0.27782709, -0.29525851,\n",
      "       -0.45613294, -1.04377851,  0.02762813, -0.29265643,  0.01543392,\n",
      "       -0.32759319, -0.14389199, -0.92460119], dtype=float128)\n"
     ]
    }
   ],
   "source": [
    "res2 = minimize(cost_function_reg, theta, method='BFGS', args=(m_X,y), options={'disp': True})\n",
    "print(res2)"
   ]
  },
  {
   "cell_type": "markdown",
   "metadata": {},
   "source": [
    "### 2.4 Plotting the decision boundary"
   ]
  },
  {
   "cell_type": "code",
   "execution_count": 27,
   "metadata": {},
   "outputs": [],
   "source": [
    "def plot_decision_boundary_poly(theta, data):\n",
    "    x1_min, x1_max = data[:,0].min(), data[:,0].max(),\n",
    "    x2_min, x2_max = data[:,1].min(), data[:,1].max(),\n",
    "    xx1, xx2 = np.meshgrid(np.linspace(x1_min, x1_max), np.linspace(x2_min, x2_max))\n",
    "    h = sigmoid(poly.fit_transform(np.c_[xx1.ravel(), xx2.ravel()]).dot(theta))\n",
    "    h = h.reshape(xx1.shape)\n",
    "    plt.contour(xx1, xx2, h, [0.5], linewidths=1)\n",
    "    plot_data(data, 'Microchip Test 1', 'Microchip Test 2', 'y = 1, Accepted', 'y = 0, Rejected', plt.gca())"
   ]
  },
  {
   "cell_type": "code",
   "execution_count": 28,
   "metadata": {},
   "outputs": [
    {
     "data": {
      "image/png": "[encoded data removed]",
      "text/plain": [
       "<Figure size 432x288 with 1 Axes>"
      ]
     },
     "metadata": {
      "needs_background": "light"
     },
     "output_type": "display_data"
    }
   ],
   "source": [
    "plot_decision_boundary_poly(res2.x, data2)"
   ]
  },
  {
   "cell_type": "markdown",
   "metadata": {},
   "source": [
    "### 2.5 Optional exercises"
   ]
  },
  {
   "cell_type": "code",
   "execution_count": 29,
   "metadata": {},
   "outputs": [],
   "source": [
    "def calculate_precision(theta, X, y):\n",
    "    return sum(predict(theta, X) == y.ravel())/len(y)"
   ]
  },
  {
   "cell_type": "code",
   "execution_count": 36,
   "metadata": {},
   "outputs": [],
   "source": [
    "def optimize_lamb(theta, m_X, y, data, lamb):\n",
    "    res = minimize(cost_function_reg, theta, method='BFGS', jac=gradient_reg, args=(m_X,y,lamb), options={'disp': True})\n",
    "    plot_decision_boundary_poly(res.x, data)\n",
    "    print('Precision: ', calculate_precision(res.x, m_X, y))"
   ]
  },
  {
   "cell_type": "code",
   "execution_count": 37,
   "metadata": {},
   "outputs": [
    {
     "name": "stdout",
     "output_type": "stream",
     "text": [
      "Optimization terminated successfully.\n",
      "         Current function value: 0.224569\n",
      "         Iterations: 546\n",
      "         Function evaluations: 547\n",
      "         Gradient evaluations: 547\n",
      "Precision:  0.9152542372881356\n"
     ]
    },
    {
     "data": {
      "image/png": "[encoded data removed]",
      "text/plain": [
       "<Figure size 432x288 with 1 Axes>"
      ]
     },
     "metadata": {
      "needs_background": "light"
     },
     "output_type": "display_data"
    }
   ],
   "source": [
    "optimize_lamb(theta, m_X, y, data2, lamb=0)"
   ]
  },
  {
   "cell_type": "code",
   "execution_count": 38,
   "metadata": {},
   "outputs": [
    {
     "name": "stdout",
     "output_type": "stream",
     "text": [
      "Optimization terminated successfully.\n",
      "         Current function value: 0.529003\n",
      "         Iterations: 47\n",
      "         Function evaluations: 48\n",
      "         Gradient evaluations: 48\n",
      "Precision:  0.8305084745762712\n"
     ]
    },
    {
     "data": {
      "image/png": "[encoded data removed]",
      "text/plain": [
       "<Figure size 432x288 with 1 Axes>"
      ]
     },
     "metadata": {
      "needs_background": "light"
     },
     "output_type": "display_data"
    }
   ],
   "source": [
    "optimize_lamb(theta, m_X, y, data2, lamb=1)"
   ]
  },
  {
   "cell_type": "code",
   "execution_count": 39,
   "metadata": {},
   "outputs": [
    {
     "name": "stdout",
     "output_type": "stream",
     "text": [
      "Optimization terminated successfully.\n",
      "         Current function value: 0.686484\n",
      "         Iterations: 7\n",
      "         Function evaluations: 8\n",
      "         Gradient evaluations: 8\n",
      "Precision:  0.6101694915254238\n"
     ]
    },
    {
     "data": {
      "image/png": "[encoded data removed]",
      "text/plain": [
       "<Figure size 432x288 with 1 Axes>"
      ]
     },
     "metadata": {
      "needs_background": "light"
     },
     "output_type": "display_data"
    }
   ],
   "source": [
    "optimize_lamb(theta, m_X, y, data2, lamb=100)"
   ]
  },
  {
   "cell_type": "code",
   "execution_count": null,
   "metadata": {},
   "outputs": [],
   "source": []
  }
 ],
 "metadata": {
  "kernelspec": {
   "display_name": "Python 3",
   "language": "python",
   "name": "python3"
  },
  "language_info": {
   "codemirror_mode": {
    "name": "ipython",
    "version": 3
   },
   "file_extension": ".py",
   "mimetype": "text/x-python",
   "name": "python",
   "nbconvert_exporter": "python",
   "pygments_lexer": "ipython3",
   "version": "3.7.3"
  }
 },
 "nbformat": 4,
 "nbformat_minor": 2
}

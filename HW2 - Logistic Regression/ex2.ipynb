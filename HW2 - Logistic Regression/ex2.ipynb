{
 "cells": [
  {
   "cell_type": "code",
   "execution_count": 187,
   "metadata": {},
   "outputs": [],
   "source": [
    "# Import libraries\n",
    "import numpy as np\n",
    "import matplotlib.pyplot as plt\n",
    "\n",
    "from scipy.optimize import minimize\n",
    "from sklearn.preprocessing import PolynomialFeatures"
   ]
  },
  {
   "cell_type": "code",
   "execution_count": 188,
   "metadata": {},
   "outputs": [],
   "source": [
    "def load_data(file, delimiter):\n",
    "    data = np.loadtxt(file, delimiter=delimiter)\n",
    "    print('Shape: ', data.shape)\n",
    "    print('First row: ', data[1, :])\n",
    "    \n",
    "    return data"
   ]
  },
  {
   "cell_type": "markdown",
   "metadata": {},
   "source": [
    "### 1.1 Visualizing the data"
   ]
  },
  {
   "cell_type": "code",
   "execution_count": 189,
   "metadata": {},
   "outputs": [],
   "source": [
    "def plot_data(data, label_x, label_y, label_pos, label_neg, axes=None):\n",
    "    # Find indices of positive and negative examples\n",
    "    pos = data[:,2] == 1\n",
    "    neg = data[:,2] == 0\n",
    "    \n",
    "    # Plot examples\n",
    "    if axes == None:\n",
    "        axes = plt.gca()\n",
    "    axes.scatter(data[pos][:,0], data[pos][:,1], label=label_pos, marker='+', color='k', linewidth=2)\n",
    "    axes.scatter(data[neg][:,0], data[neg][:,1], label=label_neg, marker='o', color='y')\n",
    "    axes.set_xlabel(label_x)\n",
    "    axes.set_ylabel(label_y)\n",
    "    axes.legend()"
   ]
  },
  {
   "cell_type": "markdown",
   "metadata": {},
   "source": [
    "### 1.2.1 Warm-up: sigmoid function"
   ]
  },
  {
   "cell_type": "code",
   "execution_count": 190,
   "metadata": {},
   "outputs": [
    {
     "name": "stdout",
     "output_type": "stream",
     "text": [
      "Shape:  (100, 3)\n",
      "First row:  [30.28671077 43.89499752  0.        ]\n"
     ]
    }
   ],
   "source": [
    "data = load_data('./ex2data1.txt', ',')"
   ]
  },
  {
   "cell_type": "code",
   "execution_count": 191,
   "metadata": {},
   "outputs": [
    {
     "data": {
      "image/png": "[encoded data removed]",
      "text/plain": [
       "<Figure size 432x288 with 1 Axes>"
      ]
     },
     "metadata": {
      "needs_background": "light"
     },
     "output_type": "display_data"
    }
   ],
   "source": [
    "plot_data(data, 'Exam 1 score', 'Exam 2 score', 'Admitted', 'Not admitted')"
   ]
  },
  {
   "cell_type": "code",
   "execution_count": 192,
   "metadata": {},
   "outputs": [],
   "source": [
    "def sigmoid(z):\n",
    "    return (1 / (1 + np.exp(-z)))"
   ]
  },
  {
   "cell_type": "code",
   "execution_count": 193,
   "metadata": {},
   "outputs": [],
   "source": [
    "def test_sigmoid():\n",
    "    print(sigmoid(0))\n",
    "    print(sigmoid(100))\n",
    "    print(sigmoid(np.zeros(2)))"
   ]
  },
  {
   "cell_type": "code",
   "execution_count": 194,
   "metadata": {},
   "outputs": [
    {
     "name": "stdout",
     "output_type": "stream",
     "text": [
      "0.5\n",
      "1.0\n",
      "[0.5 0.5]\n"
     ]
    }
   ],
   "source": [
    "test_sigmoid()"
   ]
  },
  {
   "cell_type": "markdown",
   "metadata": {},
   "source": [
    "### 1.2.2 Cost function and gradient"
   ]
  },
  {
   "cell_type": "code",
   "execution_count": 195,
   "metadata": {},
   "outputs": [],
   "source": [
    "X = np.c_[np.ones((data.shape[0],1)), data[:,0:2]]\n",
    "y = np.c_[data[:,2]]"
   ]
  },
  {
   "cell_type": "code",
   "execution_count": 196,
   "metadata": {},
   "outputs": [],
   "source": [
    "def cost_function(theta, X, y):\n",
    "    m = len(y)\n",
    "    hx = sigmoid(theta.dot(X.T))\n",
    "    J = (-1/m)*(y.T.dot(np.log(hx)) + (1-y).T.dot(np.log(1-hx)))\n",
    "    \n",
    "    return J"
   ]
  },
  {
   "cell_type": "code",
   "execution_count": 197,
   "metadata": {},
   "outputs": [],
   "source": [
    "def gradient(theta, X, y):\n",
    "    m = len(y)\n",
    "    hx = sigmoid(theta.dot(X.T))\n",
    "    grad = (1/m)*((hx - y.T).dot(X))\n",
    "    \n",
    "    return grad.flatten()"
   ]
  },
  {
   "cell_type": "code",
   "execution_count": 198,
   "metadata": {},
   "outputs": [],
   "source": [
    "theta = np.zeros((X.shape[1]))\n",
    "cost = cost_function(theta, X, y)\n",
    "grad = gradient(theta, X, y)"
   ]
  },
  {
   "cell_type": "code",
   "execution_count": 199,
   "metadata": {},
   "outputs": [
    {
     "name": "stdout",
     "output_type": "stream",
     "text": [
      "[0.69314718]\n",
      "[ -0.1        -12.00921659 -11.26284221]\n"
     ]
    }
   ],
   "source": [
    "print(cost)\n",
    "print(grad)"
   ]
  },
  {
   "cell_type": "markdown",
   "metadata": {},
   "source": [
    "### 1.2.3 Learning parameters using fminunc"
   ]
  },
  {
   "cell_type": "code",
   "execution_count": 200,
   "metadata": {},
   "outputs": [
    {
     "name": "stdout",
     "output_type": "stream",
     "text": [
      "Optimization terminated successfully.\n",
      "         Current function value: 0.203498\n",
      "         Iterations: 157\n",
      "         Function evaluations: 287\n",
      " final_simplex: (array([[-25.16130062,   0.20623142,   0.20147143],\n",
      "       [-25.16135807,   0.20623176,   0.20147199],\n",
      "       [-25.1613519 ,   0.20623203,   0.20147171],\n",
      "       [-25.16137971,   0.20623202,   0.20147188]]), array([0.2034977, 0.2034977, 0.2034977, 0.2034977]))\n",
      "           fun: 0.2034977015902151\n",
      "       message: 'Optimization terminated successfully.'\n",
      "          nfev: 287\n",
      "           nit: 157\n",
      "        status: 0\n",
      "       success: True\n",
      "             x: array([-25.16130062,   0.20623142,   0.20147143])\n"
     ]
    }
   ],
   "source": [
    "res = minimize(cost_function, theta, method='nelder-mead', args=(X,y), options={'disp': True})\n",
    "print(res)"
   ]
  },
  {
   "cell_type": "code",
   "execution_count": 201,
   "metadata": {},
   "outputs": [],
   "source": [
    "def predict(theta, X, threshold=0.5):\n",
    "    p = sigmoid(X.dot(theta.T)) >= threshold\n",
    "    return (p.astepe('int'))"
   ]
  },
  {
   "cell_type": "code",
   "execution_count": 202,
   "metadata": {},
   "outputs": [
    {
     "data": {
      "text/plain": [
       "0.7762915904112411"
      ]
     },
     "execution_count": 202,
     "metadata": {},
     "output_type": "execute_result"
    }
   ],
   "source": [
    "sigmoid(np.array([1, 45, 85]).dot(res.x.T))"
   ]
  },
  {
   "cell_type": "code",
   "execution_count": 215,
   "metadata": {},
   "outputs": [],
   "source": [
    "def plot_decision_boundary(theta, X, y):\n",
    "    # X is Mx3 matrix, where the first column is an all-ones column for the intercept.\n",
    "    if (X.shape[1] <= 3):\n",
    "        # Only need 2 points to define a line, so choose two endpoints\n",
    "        plot_x = np.array([np.min(X[:,1])-2, np.max(X[:,1])+2])\n",
    "        # Calculate the decision boundary line\n",
    "        plot_y = (-1/theta[2])*(theta[1]*plot_x + theta[0])\n",
    "        plt.plot(plot_x, plot_y)\n",
    "        plt.scatter(45, 85, c='r', s=20, label='(45, 85)')\n",
    "        plot_data(data, 'Exam 1 score', 'Exam 2 score', 'Admitted', 'Not admitted', plt.gca())"
   ]
  },
  {
   "cell_type": "code",
   "execution_count": 204,
   "metadata": {},
   "outputs": [
    {
     "data": {
      "image/png": "[encoded data removed]",
      "text/plain": [
       "<Figure size 432x288 with 1 Axes>"
      ]
     },
     "metadata": {
      "needs_background": "light"
     },
     "output_type": "display_data"
    }
   ],
   "source": [
    "plot_decision_boundary(res.x, X, y)"
   ]
  },
  {
   "cell_type": "markdown",
   "metadata": {},
   "source": [
    "### 2.1 Visualizing the data"
   ]
  },
  {
   "cell_type": "code",
   "execution_count": 205,
   "metadata": {},
   "outputs": [
    {
     "name": "stdout",
     "output_type": "stream",
     "text": [
      "Shape:  (118, 3)\n",
      "First row:  [-0.092742  0.68494   1.      ]\n"
     ]
    }
   ],
   "source": [
    "data2 = load_data('./ex2data2.txt', ',')"
   ]
  },
  {
   "cell_type": "code",
   "execution_count": 206,
   "metadata": {},
   "outputs": [
    {
     "data": {
      "image/png": "[encoded data removed]",
      "text/plain": [
       "<Figure size 432x288 with 1 Axes>"
      ]
     },
     "metadata": {
      "needs_background": "light"
     },
     "output_type": "display_data"
    }
   ],
   "source": [
    "plot_data(data2, 'Microchip Test 1', 'Microchip Test 2', 'y = 1, Accepted', 'y = 0, Rejected')"
   ]
  },
  {
   "cell_type": "markdown",
   "metadata": {},
   "source": [
    "### 2.2 Feature Mapping"
   ]
  },
  {
   "cell_type": "code",
   "execution_count": 207,
   "metadata": {},
   "outputs": [
    {
     "name": "stdout",
     "output_type": "stream",
     "text": [
      "(118, 28)\n"
     ]
    }
   ],
   "source": [
    "poly = PolynomialFeatures(6)\n",
    "m_X = poly.fit_transform(data2[:,0:2])\n",
    "y = np.c_[data2[:,2]]\n",
    "print(m_X.shape)"
   ]
  },
  {
   "cell_type": "markdown",
   "metadata": {},
   "source": [
    "### 2.3 Cost function and gradient"
   ]
  },
  {
   "cell_type": "code",
   "execution_count": 208,
   "metadata": {},
   "outputs": [],
   "source": [
    "def cost_function_reg(theta, X, y, lamb=1):\n",
    "    m = len(y)\n",
    "    hx = sigmoid(theta.dot(X.T))\n",
    "    J = (-1/m)*(y.T.dot(np.log(hx)) + (1-y).T.dot(np.log(1-hx))) + (lamb/(2*m))*np.sum(np.power(theta[1:],2))\n",
    "    \n",
    "    return J"
   ]
  },
  {
   "cell_type": "code",
   "execution_count": 209,
   "metadata": {},
   "outputs": [],
   "source": [
    "theta = np.zeros((m_X.shape[1]))\n",
    "lamb = 1\n",
    "cost = cost_function_reg(theta, m_X, y, lamb)"
   ]
  },
  {
   "cell_type": "code",
   "execution_count": 210,
   "metadata": {},
   "outputs": [
    {
     "name": "stdout",
     "output_type": "stream",
     "text": [
      "[0.69314718]\n"
     ]
    }
   ],
   "source": [
    "print(cost)"
   ]
  },
  {
   "cell_type": "markdown",
   "metadata": {},
   "source": [
    "### 2.3.1 Learning parameters using fminunc"
   ]
  },
  {
   "cell_type": "code",
   "execution_count": 211,
   "metadata": {},
   "outputs": [
    {
     "name": "stdout",
     "output_type": "stream",
     "text": [
      "Optimization terminated successfully.\n",
      "         Current function value: 0.529003\n",
      "         Iterations: 47\n",
      "         Function evaluations: 1440\n",
      "         Gradient evaluations: 48\n",
      "      fun: 0.5290027422842983\n",
      " hess_inv: array([[ 1.07919622e+01,  1.00313747e+00,  1.20962816e+00,\n",
      "        -8.74666571e+00, -2.24529037e+00, -1.30936902e+01,\n",
      "         7.85406348e-01, -1.64625246e+00, -2.50293705e-01,\n",
      "        -6.51637908e-01, -4.71858959e+00,  2.58011057e+00,\n",
      "        -4.03208326e+00,  1.03049192e-01, -5.05479712e+00,\n",
      "        -6.75567107e-02, -2.54847931e-02,  8.82612595e-01,\n",
      "        -1.68378156e+00, -5.52076230e-01,  2.14317426e+00,\n",
      "        -2.31085997e+00,  2.02994181e+00, -1.59299507e+00,\n",
      "         1.32607883e+00, -1.98926458e+00,  2.80086684e-01,\n",
      "         5.99000875e-01],\n",
      "       [ 1.00313747e+00,  1.28893165e+01,  4.31871811e+00,\n",
      "        -6.96019620e+00, -7.08218769e+00, -2.61157791e-03,\n",
      "         1.69054193e+00,  7.18571708e-01,  2.99600743e+00,\n",
      "        -3.00956695e+00, -3.78371445e+00, -2.07199557e-01,\n",
      "         9.69197352e-01, -1.53914968e+00, -7.56905932e-01,\n",
      "        -5.28536569e-01,  5.65936558e-01,  1.55013107e+00,\n",
      "        -4.69357561e-01,  1.16960980e+00, -2.13309698e+00,\n",
      "        -2.19535531e+00,  4.55279391e-01,  4.08038084e-01,\n",
      "         3.65948305e-01,  3.50919718e-01, -2.11707118e-01,\n",
      "        -2.99775833e-01],\n",
      "       [ 1.20962816e+00,  4.31871811e+00,  1.78611690e+01,\n",
      "        -3.46315609e+00, -7.87468033e+00, -4.52690698e+00,\n",
      "        -7.27088471e-01,  3.97238965e+00,  4.19367060e-01,\n",
      "        -2.98180501e+00, -1.86242808e+00, -6.56115753e-01,\n",
      "         1.58183486e+00, -1.74184699e+00, -6.56844102e+00,\n",
      "        -1.49491628e+00,  1.74782153e+00,  8.03273702e-01,\n",
      "         3.72818185e-01,  1.54142000e-01, -6.07389987e+00,\n",
      "        -1.20655225e+00,  2.08914986e-01,  7.73594283e-01,\n",
      "         2.22223274e-01,  3.14867804e-01, -2.35771788e-01,\n",
      "        -6.68718140e+00],\n",
      "       [-8.74666571e+00, -6.96019620e+00, -3.46315609e+00,\n",
      "         2.21864570e+01,  9.71712539e+00,  1.21732867e+01,\n",
      "         2.15575245e+00,  5.51834178e-01, -3.80128989e+00,\n",
      "         2.93655177e+00,  1.13583251e+01, -3.74401901e+00,\n",
      "         3.18477609e+00,  1.26166348e+00,  2.16391035e+00,\n",
      "         3.65474742e+00, -1.25907058e+00, -2.96434021e+00,\n",
      "         2.19591162e+00, -1.34756070e+00, -3.54344801e+00,\n",
      "         6.04911230e+00, -3.52213834e+00,  1.26788948e+00,\n",
      "        -2.34205571e+00,  1.43630902e+00, -3.42654079e-01,\n",
      "        -5.61631426e+00],\n",
      "       [-2.24529037e+00, -7.08218769e+00, -7.87468033e+00,\n",
      "         9.71712539e+00,  3.81901251e+01,  1.06048489e+01,\n",
      "         3.21452339e+00, -4.24642412e+00, -2.61219165e+00,\n",
      "         1.03114482e+01, -2.66311337e-01,  2.34742265e+00,\n",
      "        -4.79548931e+00,  1.06784262e+01,  4.41389609e-01,\n",
      "         2.07845665e+00, -3.97158781e+00, -4.32929497e+00,\n",
      "         1.12912826e+00, -3.10031972e-01, -2.90503894e-01,\n",
      "        -3.83139073e+00, -1.77039551e+00, -2.71455931e+00,\n",
      "        -8.37622543e-01, -2.06302846e+00,  3.47968442e+00,\n",
      "        -8.72039473e+00],\n",
      "       [-1.30936902e+01, -2.61157791e-03, -4.52690698e+00,\n",
      "         1.21732867e+01,  1.06048489e+01,  4.44931420e+01,\n",
      "        -4.35717524e+00,  7.36955194e-02, -8.20502049e-01,\n",
      "        -3.93045085e-01, -1.02067799e+00, -9.53996298e+00,\n",
      "         7.81378841e+00,  4.80810974e-01,  8.66474777e+00,\n",
      "        -5.27550528e+00, -3.49678775e+00, -4.73938642e+00,\n",
      "         3.36526099e+00,  6.08950803e-01, -1.54403157e+01,\n",
      "        -6.62451337e+00, -7.97141082e+00,  2.13261119e+00,\n",
      "        -5.02557433e+00,  3.68231816e+00, -1.00433618e+00,\n",
      "        -1.43857983e+01],\n",
      "       [ 7.85406348e-01,  1.69054193e+00, -7.27088471e-01,\n",
      "         2.15575245e+00,  3.21452339e+00, -4.35717524e+00,\n",
      "         1.02074910e+01, -7.35289911e+00, -8.94633439e+00,\n",
      "         8.22785182e+00, -5.05442442e-01, -3.01658413e+00,\n",
      "        -5.95474912e+00, -1.38052573e+00, -3.05591173e+00,\n",
      "         6.50709165e+00, -4.89966440e+00, -3.49677672e+00,\n",
      "        -1.49042354e+00, -5.80097420e+00,  3.61004536e+00,\n",
      "        -1.10932851e+00, -2.52399599e+00, -2.82274949e+00,\n",
      "        -1.96037493e+00, -2.70968277e+00, -2.39814396e+00,\n",
      "        -3.81548266e+00],\n",
      "       [-1.64625246e+00,  7.18571708e-01,  3.97238965e+00,\n",
      "         5.51834178e-01, -4.24642412e+00,  7.36955194e-02,\n",
      "        -7.35289911e+00,  9.95338019e+00,  9.83983443e+00,\n",
      "        -8.37377985e+00,  3.83174409e+00,  4.08063094e+00,\n",
      "         6.53215717e+00,  1.55692426e+00,  2.02632771e+00,\n",
      "        -4.58373866e+00,  6.03608313e+00,  4.39178068e+00,\n",
      "         1.71126180e+00,  6.25714711e+00, -2.59581084e+00,\n",
      "         4.27001880e+00,  3.42839336e+00,  3.32817597e+00,\n",
      "         2.56607576e+00,  2.90544068e+00,  2.77536763e+00,\n",
      "         4.99519396e+00],\n",
      "       [-2.50293705e-01,  2.99600743e+00,  4.19367060e-01,\n",
      "        -3.80128989e+00, -2.61219165e+00, -8.20502049e-01,\n",
      "        -8.94633439e+00,  9.83983443e+00,  1.49829006e+01,\n",
      "        -9.86715441e+00,  2.13151351e+00,  6.89696702e+00,\n",
      "         6.71324488e+00,  3.21356292e+00,  4.30110631e+00,\n",
      "        -6.03480583e+00,  7.31435249e+00,  6.11489741e+00,\n",
      "         1.54483040e+00,  8.63415428e+00, -3.84280362e-01,\n",
      "         3.81197777e+00,  5.32400452e+00,  3.50518407e+00,\n",
      "         3.92866892e+00,  3.11238579e+00,  4.15279284e+00,\n",
      "         9.64088548e+00],\n",
      "       [-6.51637908e-01, -3.00956695e+00, -2.98180501e+00,\n",
      "         2.93655177e+00,  1.03114482e+01, -3.93045085e-01,\n",
      "         8.22785182e+00, -8.37377985e+00, -9.86715441e+00,\n",
      "         1.28452868e+01, -1.13837051e+00, -2.50441367e+00,\n",
      "        -6.91397599e+00,  4.42954397e-01, -3.75033006e-01,\n",
      "         6.06929013e+00, -5.69486644e+00, -4.48502498e+00,\n",
      "        -1.19138922e+00, -6.06807231e+00,  5.93419338e+00,\n",
      "        -2.16203385e+00, -2.80571841e+00, -3.41068596e+00,\n",
      "        -2.14271214e+00, -2.96212799e+00, -1.94646210e+00,\n",
      "        -2.68808170e+00],\n",
      "       [-4.71858959e+00, -3.78371445e+00, -1.86242808e+00,\n",
      "         1.13583251e+01, -2.66311337e-01, -1.02067799e+00,\n",
      "        -5.05442442e-01,  3.83174409e+00,  2.13151351e+00,\n",
      "        -1.13837051e+00,  1.11724163e+01,  1.30277246e+00,\n",
      "         3.50452055e+00,  4.97646121e-01,  2.86621901e+00,\n",
      "         2.12477935e+00,  2.61837372e+00,  1.35056198e+00,\n",
      "         1.31586088e+00,  1.62650163e+00,  2.45137368e+00,\n",
      "         8.38062337e+00,  1.09997640e+00,  1.99278813e+00,\n",
      "         7.15918304e-01,  1.66513749e+00,  7.74696706e-01,\n",
      "         5.28072346e+00],\n",
      "       [ 2.58011057e+00, -2.07199557e-01, -6.56115753e-01,\n",
      "        -3.74401901e+00,  2.34742265e+00, -9.53996298e+00,\n",
      "        -3.01658413e+00,  4.08063094e+00,  6.89696702e+00,\n",
      "        -2.50441367e+00,  1.30277246e+00,  7.56509876e+00,\n",
      "         4.74772919e-01,  3.32051404e+00,  1.08835113e+00,\n",
      "        -1.32491360e+00,  3.94027949e+00,  3.65119521e+00,\n",
      "         8.45178000e-02,  4.16652019e+00,  4.99388111e+00,\n",
      "         3.13562523e+00,  4.60426344e+00,  7.27176031e-01,\n",
      "         3.22283423e+00,  2.99561271e-01,  2.93339336e+00,\n",
      "         8.58766508e+00],\n",
      "       [-4.03208326e+00,  9.69197352e-01,  1.58183486e+00,\n",
      "         3.18477609e+00, -4.79548931e+00,  7.81378841e+00,\n",
      "        -5.95474912e+00,  6.53215717e+00,  6.71324488e+00,\n",
      "        -6.91397599e+00,  3.50452055e+00,  4.74772919e-01,\n",
      "         7.74662875e+00, -7.98452242e-02,  3.44184175e+00,\n",
      "        -3.96398628e+00,  3.83465131e+00,  2.47848000e+00,\n",
      "         1.78156578e+00,  4.37129263e+00, -4.57853461e+00,\n",
      "         2.80118557e+00,  8.40951865e-01,  3.10939788e+00,\n",
      "         7.58524478e-01,  3.05051931e+00,  1.24853060e+00,\n",
      "         1.87561615e+00],\n",
      "       [ 1.03049192e-01, -1.53914968e+00, -1.74184699e+00,\n",
      "         1.26166348e+00,  1.06784262e+01,  4.80810974e-01,\n",
      "        -1.38052573e+00,  1.55692426e+00,  3.21356292e+00,\n",
      "         4.42954397e-01,  4.97646121e-01,  3.32051404e+00,\n",
      "        -7.98452242e-02,  5.38166544e+00,  6.10367879e-01,\n",
      "        -8.49767388e-01,  1.06440600e+00,  6.30429682e-01,\n",
      "         6.26105013e-01,  2.35483175e+00,  4.76755954e-01,\n",
      "         1.58712774e-01,  1.43539273e+00,  3.91133933e-03,\n",
      "         1.16556237e+00, -2.99751626e-03,  2.40617493e+00,\n",
      "         4.97386434e-01],\n",
      "       [-5.05479712e+00, -7.56905932e-01, -6.56844102e+00,\n",
      "         2.16391035e+00,  4.41389609e-01,  8.66474777e+00,\n",
      "        -3.05591173e+00,  2.02632771e+00,  4.30110631e+00,\n",
      "        -3.75033006e-01,  2.86621901e+00,  1.08835113e+00,\n",
      "         3.44184175e+00,  6.10367879e-01,  9.70613625e+00,\n",
      "        -1.38383219e+00,  1.64716136e+00,  1.46408932e+00,\n",
      "         9.81008102e-01,  2.67165793e+00,  3.82593324e+00,\n",
      "         2.63641565e+00,  8.17679710e-01,  1.56249293e+00,\n",
      "         5.64515965e-01,  1.95149525e+00,  7.52915804e-01,\n",
      "         8.68281518e+00],\n",
      "       [-6.75567107e-02, -5.28536569e-01, -1.49491628e+00,\n",
      "         3.65474742e+00,  2.07845665e+00, -5.27550528e+00,\n",
      "         6.50709165e+00, -4.58373866e+00, -6.03480583e+00,\n",
      "         6.06929013e+00,  2.12477935e+00, -1.32491360e+00,\n",
      "        -3.96398628e+00, -8.49767388e-01, -1.38383219e+00,\n",
      "         6.40644117e+00, -2.80518521e+00, -2.02933387e+00,\n",
      "        -9.37823265e-01, -3.88851311e+00,  4.58619812e+00,\n",
      "         1.55551352e+00, -1.14294599e+00, -1.72412807e+00,\n",
      "        -9.94308044e-01, -1.75531390e+00, -1.51254186e+00,\n",
      "        -1.07782007e-01],\n",
      "       [-2.54847931e-02,  5.65936558e-01,  1.74782153e+00,\n",
      "        -1.25907058e+00, -3.97158781e+00, -3.49678775e+00,\n",
      "        -4.89966440e+00,  6.03608313e+00,  7.31435249e+00,\n",
      "        -5.69486644e+00,  2.61837372e+00,  3.94027949e+00,\n",
      "         3.83465131e+00,  1.06440600e+00,  1.64716136e+00,\n",
      "        -2.80518521e+00,  5.55041470e+00,  3.66265871e+00,\n",
      "         8.22147883e-01,  4.49277633e+00,  5.10532808e-01,\n",
      "         3.61160973e+00,  3.28865321e+00,  2.12632716e+00,\n",
      "         2.35172331e+00,  1.74500650e+00,  2.06015632e+00,\n",
      "         6.17860974e+00],\n",
      "       [ 8.82612595e-01,  1.55013107e+00,  8.03273702e-01,\n",
      "        -2.96434021e+00, -4.32929497e+00, -4.73938642e+00,\n",
      "        -3.49677672e+00,  4.39178068e+00,  6.11489741e+00,\n",
      "        -4.48502498e+00,  1.35056198e+00,  3.65119521e+00,\n",
      "         2.47848000e+00,  6.30429682e-01,  1.46408932e+00,\n",
      "        -2.02933387e+00,  3.66265871e+00,  4.28965364e+00,\n",
      "         3.08529263e-01,  3.58999448e+00,  1.74086575e+00,\n",
      "         2.74790969e+00,  3.09663853e+00,  1.48816004e+00,\n",
      "         2.16611536e+00,  1.15849012e+00,  1.60236113e+00,\n",
      "         6.48384920e+00],\n",
      "       [-1.68378156e+00, -4.69357561e-01,  3.72818185e-01,\n",
      "         2.19591162e+00,  1.12912826e+00,  3.36526099e+00,\n",
      "        -1.49042354e+00,  1.71126180e+00,  1.54483040e+00,\n",
      "        -1.19138922e+00,  1.31586088e+00,  8.45178000e-02,\n",
      "         1.78156578e+00,  6.26105013e-01,  9.81008102e-01,\n",
      "        -9.37823265e-01,  8.22147883e-01,  3.08529263e-01,\n",
      "         1.68196910e+00,  1.14095080e+00, -1.58084706e+00,\n",
      "         7.06213662e-01, -2.79918159e-02,  7.77017073e-01,\n",
      "         5.89894218e-02,  8.05837213e-01,  5.31097053e-01,\n",
      "        -3.94587568e-01],\n",
      "       [-5.52076230e-01,  1.16960980e+00,  1.54142000e-01,\n",
      "        -1.34756070e+00, -3.10031972e-01,  6.08950803e-01,\n",
      "        -5.80097420e+00,  6.25714711e+00,  8.63415428e+00,\n",
      "        -6.06807231e+00,  1.62650163e+00,  4.16652019e+00,\n",
      "         4.37129263e+00,  2.35483175e+00,  2.67165793e+00,\n",
      "        -3.88851311e+00,  4.49277633e+00,  3.58999448e+00,\n",
      "         1.14095080e+00,  6.43595363e+00, -8.54051375e-01,\n",
      "         2.34318596e+00,  3.10118668e+00,  2.23456963e+00,\n",
      "         2.32525298e+00,  2.01560482e+00,  2.70983581e+00,\n",
      "         5.20676174e+00],\n",
      "       [ 2.14317426e+00, -2.13309698e+00, -6.07389987e+00,\n",
      "        -3.54344801e+00, -2.90503894e-01, -1.54403157e+01,\n",
      "         3.61004536e+00, -2.59581084e+00, -3.84280362e-01,\n",
      "         5.93419338e+00,  2.45137368e+00,  4.99388111e+00,\n",
      "        -4.57853461e+00,  4.76755954e-01,  3.82593324e+00,\n",
      "         4.58619812e+00,  5.10532808e-01,  1.74086575e+00,\n",
      "        -1.58084706e+00, -8.54051375e-01,  1.64827006e+01,\n",
      "         4.88627792e+00,  3.73482257e+00, -1.45186663e+00,\n",
      "         2.20423985e+00, -1.66508521e+00,  2.35832010e-01,\n",
      "         1.53315141e+01],\n",
      "       [-2.31085997e+00, -2.19535531e+00, -1.20655225e+00,\n",
      "         6.04911230e+00, -3.83139073e+00, -6.62451337e+00,\n",
      "        -1.10932851e+00,  4.27001880e+00,  3.81197777e+00,\n",
      "        -2.16203385e+00,  8.38062337e+00,  3.13562523e+00,\n",
      "         2.80118557e+00,  1.58712774e-01,  2.63641565e+00,\n",
      "         1.55551352e+00,  3.61160973e+00,  2.74790969e+00,\n",
      "         7.06213662e-01,  2.34318596e+00,  4.88627792e+00,\n",
      "         9.21761160e+00,  2.75678913e+00,  1.85620918e+00,\n",
      "         1.80001843e+00,  1.37317164e+00,  1.05496756e+00,\n",
      "         8.92903345e+00],\n",
      "       [ 2.02994181e+00,  4.55279391e-01,  2.08914986e-01,\n",
      "        -3.52213834e+00, -1.77039551e+00, -7.97141082e+00,\n",
      "        -2.52399599e+00,  3.42839336e+00,  5.32400452e+00,\n",
      "        -2.80571841e+00,  1.09997640e+00,  4.60426344e+00,\n",
      "         8.40951865e-01,  1.43539273e+00,  8.17679710e-01,\n",
      "        -1.14294599e+00,  3.28865321e+00,  3.09663853e+00,\n",
      "        -2.79918159e-02,  3.10118668e+00,  3.73482257e+00,\n",
      "         2.75678913e+00,  4.55175501e+00,  8.11367761e-01,\n",
      "         2.44737785e+00,  4.35081252e-01,  1.83020361e+00,\n",
      "         7.19959955e+00],\n",
      "       [-1.59299507e+00,  4.08038084e-01,  7.73594283e-01,\n",
      "         1.26788948e+00, -2.71455931e+00,  2.13261119e+00,\n",
      "        -2.82274949e+00,  3.32817597e+00,  3.50518407e+00,\n",
      "        -3.41068596e+00,  1.99278813e+00,  7.27176031e-01,\n",
      "         3.10939788e+00,  3.91133933e-03,  1.56249293e+00,\n",
      "        -1.72412807e+00,  2.12632716e+00,  1.48816004e+00,\n",
      "         7.77017073e-01,  2.23456963e+00, -1.45186663e+00,\n",
      "         1.85620918e+00,  8.11367761e-01,  2.50281203e+00,\n",
      "         6.28024572e-01,  1.40983144e+00,  7.10912020e-01,\n",
      "         1.83347862e+00],\n",
      "       [ 1.32607883e+00,  3.65948305e-01,  2.22223274e-01,\n",
      "        -2.34205571e+00, -8.37622543e-01, -5.02557433e+00,\n",
      "        -1.96037493e+00,  2.56607576e+00,  3.92866892e+00,\n",
      "        -2.14271214e+00,  7.15918304e-01,  3.22283423e+00,\n",
      "         7.58524478e-01,  1.16556237e+00,  5.64515965e-01,\n",
      "        -9.94308044e-01,  2.35172331e+00,  2.16611536e+00,\n",
      "         5.89894218e-02,  2.32525298e+00,  2.20423985e+00,\n",
      "         1.80001843e+00,  2.44737785e+00,  6.28024572e-01,\n",
      "         2.70469747e+00,  3.74175203e-01,  1.37859600e+00,\n",
      "         4.69420763e+00],\n",
      "       [-1.98926458e+00,  3.50919718e-01,  3.14867804e-01,\n",
      "         1.43630902e+00, -2.06302846e+00,  3.68231816e+00,\n",
      "        -2.70968277e+00,  2.90544068e+00,  3.11238579e+00,\n",
      "        -2.96212799e+00,  1.66513749e+00,  2.99561271e-01,\n",
      "         3.05051931e+00, -2.99751626e-03,  1.95149525e+00,\n",
      "        -1.75531390e+00,  1.74500650e+00,  1.15849012e+00,\n",
      "         8.05837213e-01,  2.01560482e+00, -1.66508521e+00,\n",
      "         1.37317164e+00,  4.35081252e-01,  1.40983144e+00,\n",
      "         3.74175203e-01,  2.40242637e+00,  5.78260999e-01,\n",
      "         1.36755443e+00],\n",
      "       [ 2.80086684e-01, -2.11707118e-01, -2.35771788e-01,\n",
      "        -3.42654079e-01,  3.47968442e+00, -1.00433618e+00,\n",
      "        -2.39814396e+00,  2.77536763e+00,  4.15279284e+00,\n",
      "        -1.94646210e+00,  7.74696706e-01,  2.93339336e+00,\n",
      "         1.24853060e+00,  2.40617493e+00,  7.52915804e-01,\n",
      "        -1.51254186e+00,  2.06015632e+00,  1.60236113e+00,\n",
      "         5.31097053e-01,  2.70983581e+00,  2.35832010e-01,\n",
      "         1.05496756e+00,  1.83020361e+00,  7.10912020e-01,\n",
      "         1.37859600e+00,  5.78260999e-01,  2.85088811e+00,\n",
      "         2.25708410e+00],\n",
      "       [ 5.99000875e-01, -2.99775833e-01, -6.68718140e+00,\n",
      "        -5.61631426e+00, -8.72039473e+00, -1.43857983e+01,\n",
      "        -3.81548266e+00,  4.99519396e+00,  9.64088548e+00,\n",
      "        -2.68808170e+00,  5.28072346e+00,  8.58766508e+00,\n",
      "         1.87561615e+00,  4.97386434e-01,  8.68281518e+00,\n",
      "        -1.07782007e-01,  6.17860974e+00,  6.48384920e+00,\n",
      "        -3.94587568e-01,  5.20676174e+00,  1.53315141e+01,\n",
      "         8.92903345e+00,  7.19959955e+00,  1.83347862e+00,\n",
      "         4.69420763e+00,  1.36755443e+00,  2.25708410e+00,\n",
      "         2.53712359e+01]])\n",
      "      jac: array([-7.37607479e-07,  3.53157520e-06, -3.72529030e-07,  8.24034214e-06,\n",
      "       -2.33948231e-06, -3.42726707e-06, -3.36766243e-06,  3.98606062e-06,\n",
      "        2.11596489e-06,  2.61515379e-06, -2.07126141e-06, -3.09944153e-06,\n",
      "       -3.77744436e-06,  6.48200512e-07, -4.69386578e-07, -5.78165054e-06,\n",
      "        2.86847353e-06, -2.37673521e-06, -1.56462193e-07,  1.21444464e-06,\n",
      "        2.21282244e-06, -5.23775816e-06, -1.51246786e-06, -1.78813934e-06,\n",
      "       -1.19209290e-06, -1.69128180e-06,  1.11758709e-07,  4.17232513e-07])\n",
      "  message: 'Optimization terminated successfully.'\n",
      "     nfev: 1440\n",
      "      nit: 47\n",
      "     njev: 48\n",
      "   status: 0\n",
      "  success: True\n",
      "        x: array([ 1.27268737,  0.62557002,  1.1809666 , -2.01919827, -0.91761487,\n",
      "       -1.43194192,  0.12375935, -0.36513083, -0.35703389, -0.17485809,\n",
      "       -1.45843765, -0.05129654, -0.61603948, -0.2746414 , -1.19282584,\n",
      "       -0.24270337, -0.20570024, -0.04499753, -0.27782704, -0.29525844,\n",
      "       -0.45613312, -1.04377863,  0.02762824, -0.29265647,  0.01543373,\n"
     ]
    },
    {
     "name": "stdout",
     "output_type": "stream",
     "text": [
      "       -0.32759314, -0.143892  , -0.92460118])\n"
     ]
    }
   ],
   "source": [
    "res2 = minimize(cost_function_reg, theta, method='BFGS', args=(m_X,y), options={'disp': True})\n",
    "print(res2)"
   ]
  },
  {
   "cell_type": "markdown",
   "metadata": {},
   "source": [
    "### 2.4 Plotting the decision boundary"
   ]
  },
  {
   "cell_type": "code",
   "execution_count": 232,
   "metadata": {},
   "outputs": [],
   "source": [
    "def plot_decision_boundary_poly(theta, data, y):\n",
    "    x1_min, x1_max = data[:,0].min(), data[:,0].max(),\n",
    "    x2_min, x2_max = data[:,1].min(), data[:,1].max(),\n",
    "    xx1, xx2 = np.meshgrid(np.linspace(x1_min, x1_max), np.linspace(x2_min, x2_max))\n",
    "    h = sigmoid(poly.fit_transform(np.c_[xx1.ravel(), xx2.ravel()]).dot(res2.x))\n",
    "    h = h.reshape(xx1.shape)\n",
    "    plt.contour(xx1, xx2, h, [0.5], linewidths=1)\n",
    "    plot_data(data, 'Microchip Test 1', 'Microchip Test 2', 'y = 1, Accepted', 'y = 0, Rejected', plt.gca())"
   ]
  },
  {
   "cell_type": "code",
   "execution_count": 233,
   "metadata": {},
   "outputs": [
    {
     "data": {
      "image/png": "[encoded data removed]",
      "text/plain": [
       "<Figure size 432x288 with 1 Axes>"
      ]
     },
     "metadata": {
      "needs_background": "light"
     },
     "output_type": "display_data"
    }
   ],
   "source": [
    "plot_decision_boundary_poly(res2.x, data2, y)"
   ]
  },
  {
   "cell_type": "code",
   "execution_count": null,
   "metadata": {},
   "outputs": [],
   "source": []
  }
 ],
 "metadata": {
  "kernelspec": {
   "display_name": "Python 3",
   "language": "python",
   "name": "python3"
  },
  "language_info": {
   "codemirror_mode": {
    "name": "ipython",
    "version": 3
   },
   "file_extension": ".py",
   "mimetype": "text/x-python",
   "name": "python",
   "nbconvert_exporter": "python",
   "pygments_lexer": "ipython3",
   "version": "3.7.3"
  }
 },
 "nbformat": 4,
 "nbformat_minor": 2
}

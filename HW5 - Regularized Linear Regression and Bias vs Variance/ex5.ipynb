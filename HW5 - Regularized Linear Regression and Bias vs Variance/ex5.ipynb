{
 "cells": [
  {
   "cell_type": "code",
   "execution_count": 76,
   "metadata": {},
   "outputs": [],
   "source": [
    "# Import libraries\n",
    "import numpy as np\n",
    "import pandas as pd\n",
    "import matplotlib.pyplot as plt\n",
    "\n",
    "from scipy.io import loadmat\n",
    "from scipy.optimize import minimize"
   ]
  },
  {
   "cell_type": "code",
   "execution_count": 10,
   "metadata": {},
   "outputs": [
    {
     "name": "stdout",
     "output_type": "stream",
     "text": [
      "(12, 1)\n",
      "(12, 1)\n"
     ]
    }
   ],
   "source": [
    "# Load data\n",
    "data = loadmat('./ex5data1.mat')\n",
    "X = data['X']\n",
    "y = data['y']\n",
    "Xtest = data['Xtest']\n",
    "ytest = data['ytest']\n",
    "Xval = data['Xval']\n",
    "yval = data['yval']\n",
    "print(X.shape)\n",
    "print(y.shape)"
   ]
  },
  {
   "cell_type": "markdown",
   "metadata": {},
   "source": [
    "### 1.1 Visualizing the dataset"
   ]
  },
  {
   "cell_type": "code",
   "execution_count": 28,
   "metadata": {},
   "outputs": [],
   "source": [
    "def plot_data(X, y, label_x, label_y, axes=None):\n",
    "    if not axes:\n",
    "        axes = plt.gca()\n",
    "    axes.scatter(X,y, label='Training data', marker='x')\n",
    "    axes.set_xlabel(label_x)\n",
    "    axes.set_ylabel(label_y)\n",
    "    axes.legend()"
   ]
  },
  {
   "cell_type": "code",
   "execution_count": 29,
   "metadata": {},
   "outputs": [
    {
     "data": {
      "image/png": "[encoded data removed]",
      "text/plain": [
       "<Figure size 432x288 with 1 Axes>"
      ]
     },
     "metadata": {
      "needs_background": "light"
     },
     "output_type": "display_data"
    }
   ],
   "source": [
    "plot_data(X, y, 'Change in water level (x)', 'Water flowing out of the dam (y)')"
   ]
  },
  {
   "cell_type": "markdown",
   "metadata": {},
   "source": [
    "### 1.2 Regularized linear regression cost function"
   ]
  },
  {
   "cell_type": "code",
   "execution_count": 193,
   "metadata": {},
   "outputs": [],
   "source": [
    "def linear_reg_cost_function(theta, X, y, lamb=1):\n",
    "    m = len(y)\n",
    "    hx = X.dot(theta.reshape(-1,1))\n",
    "    J = (1/(2*m))*(np.sum(np.square(hx-y))) + (lamb/(2*m))*(np.sum(np.square(theta[1:])))\n",
    "    \n",
    "    return J"
   ]
  },
  {
   "cell_type": "code",
   "execution_count": 203,
   "metadata": {},
   "outputs": [],
   "source": [
    "def linear_reg_gradient(theta, X, y, lamb=1):\n",
    "    m = len(y)\n",
    "    hx = X.dot(theta.reshape(-1,1))\n",
    "    grad = (1/m)*((hx-y).T.dot(X)) + (lamb/m)*(np.c_[[0],theta[1:]])\n",
    "    \n",
    "    return grad.flatten()"
   ]
  },
  {
   "cell_type": "code",
   "execution_count": 204,
   "metadata": {},
   "outputs": [],
   "source": [
    "X_in = np.c_[np.ones((X.shape[0],1)), X]\n",
    "theta_init = np.ones((X_in.shape[1]))"
   ]
  },
  {
   "cell_type": "code",
   "execution_count": 205,
   "metadata": {},
   "outputs": [
    {
     "name": "stdout",
     "output_type": "stream",
     "text": [
      "303.9931922202643\n",
      "[-15.30301567 598.25074417]\n"
     ]
    }
   ],
   "source": [
    "cost = linear_reg_cost_function(theta_init, X_in, y, 1)\n",
    "grad = linear_reg_gradient(theta_init, X_in, y, 1)\n",
    "print(cost)\n",
    "print(grad)"
   ]
  },
  {
   "cell_type": "markdown",
   "metadata": {},
   "source": [
    "### 1.4 Fitting linear regression"
   ]
  },
  {
   "cell_type": "code",
   "execution_count": 208,
   "metadata": {},
   "outputs": [],
   "source": [
    "def train_linear_reg(X, y, lamb):\n",
    "    theta = np.ones((X.shape[1]))\n",
    "    res = minimize(linear_reg_cost_function, theta, method='CG', args=(X,y,lamb), \\\n",
    "                   jac=linear_reg_gradient, options={'disp': True})\n",
    "    \n",
    "    return res.x"
   ]
  },
  {
   "cell_type": "code",
   "execution_count": 209,
   "metadata": {},
   "outputs": [
    {
     "name": "stdout",
     "output_type": "stream",
     "text": [
      "Optimization terminated successfully.\n",
      "         Current function value: 22.373906\n",
      "         Iterations: 18\n",
      "         Function evaluations: 28\n",
      "         Gradient evaluations: 28\n"
     ]
    }
   ],
   "source": [
    "theta = train_linear_reg(X_in, y, 0)"
   ]
  },
  {
   "cell_type": "code",
   "execution_count": 228,
   "metadata": {},
   "outputs": [],
   "source": [
    "def predict(theta, X):\n",
    "    X_2d = X.reshape(-1,1)\n",
    "    X_in = np.c_[np.ones((X_2d.shape[0],1)), X_2d]\n",
    "    return X_in.dot(theta.reshape(-1,1)).flatten()"
   ]
  },
  {
   "cell_type": "code",
   "execution_count": 237,
   "metadata": {},
   "outputs": [],
   "source": [
    "def plot_fit(theta, X, y):\n",
    "    X_min, X_max = np.min(X), np.max(X)\n",
    "    plot_X = np.linspace(X_min, X_max)\n",
    "    plot_y = predict(theta, plot_X)\n",
    "    plt.plot(plot_X, plot_y,label='Linear fit', color='r')\n",
    "    plot_data(X, y, 'Change in water level (x)', 'Water flowing out of the dam (y)', plt.gca())"
   ]
  },
  {
   "cell_type": "code",
   "execution_count": 238,
   "metadata": {},
   "outputs": [
    {
     "data": {
      "image/png": "[encoded data removed]",
      "text/plain": [
       "<Figure size 432x288 with 1 Axes>"
      ]
     },
     "metadata": {
      "needs_background": "light"
     },
     "output_type": "display_data"
    }
   ],
   "source": [
    "plot_fit(theta, X, y)"
   ]
  },
  {
   "cell_type": "code",
   "execution_count": null,
   "metadata": {},
   "outputs": [],
   "source": []
  }
 ],
 "metadata": {
  "kernelspec": {
   "display_name": "Python 3",
   "language": "python",
   "name": "python3"
  },
  "language_info": {
   "codemirror_mode": {
    "name": "ipython",
    "version": 3
   },
   "file_extension": ".py",
   "mimetype": "text/x-python",
   "name": "python",
   "nbconvert_exporter": "python",
   "pygments_lexer": "ipython3",
   "version": "3.7.0"
  }
 },
 "nbformat": 4,
 "nbformat_minor": 2
}

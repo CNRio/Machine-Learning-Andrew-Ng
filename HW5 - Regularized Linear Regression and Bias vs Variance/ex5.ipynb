{
 "cells": [
  {
   "cell_type": "code",
   "execution_count": 188,
   "metadata": {},
   "outputs": [],
   "source": [
    "# Import libraries\n",
    "import numpy as np\n",
    "import pandas as pd\n",
    "import matplotlib.pyplot as plt\n",
    "\n",
    "from scipy.io import loadmat\n",
    "from scipy.optimize import minimize\n",
    "from sklearn.preprocessing import PolynomialFeatures, normalize"
   ]
  },
  {
   "cell_type": "code",
   "execution_count": 164,
   "metadata": {},
   "outputs": [
    {
     "name": "stdout",
     "output_type": "stream",
     "text": [
      "(12, 1)\n",
      "(12, 1)\n"
     ]
    }
   ],
   "source": [
    "# Load data\n",
    "data = loadmat('./ex5data1.mat')\n",
    "X = data['X']\n",
    "y = data['y']\n",
    "Xtest = data['Xtest']\n",
    "ytest = data['ytest']\n",
    "Xval = data['Xval']\n",
    "yval = data['yval']\n",
    "print(X.shape)\n",
    "print(y.shape)"
   ]
  },
  {
   "cell_type": "markdown",
   "metadata": {},
   "source": [
    "### 1.1 Visualizing the dataset"
   ]
  },
  {
   "cell_type": "code",
   "execution_count": 165,
   "metadata": {},
   "outputs": [],
   "source": [
    "def plot_data(X, y, label_x, label_y, axes=None):\n",
    "    if not axes:\n",
    "        axes = plt.gca()\n",
    "    axes.scatter(X,y, label='Training data', marker='x')\n",
    "    axes.set_xlabel(label_x)\n",
    "    axes.set_ylabel(label_y)\n",
    "    axes.legend()"
   ]
  },
  {
   "cell_type": "code",
   "execution_count": 166,
   "metadata": {},
   "outputs": [
    {
     "data": {
      "image/png": "[encoded data removed]",
      "text/plain": [
       "<Figure size 432x288 with 1 Axes>"
      ]
     },
     "metadata": {
      "needs_background": "light"
     },
     "output_type": "display_data"
    }
   ],
   "source": [
    "plot_data(X, y, 'Change in water level (x)', 'Water flowing out of the dam (y)')"
   ]
  },
  {
   "cell_type": "markdown",
   "metadata": {},
   "source": [
    "### 1.2 Regularized linear regression cost function"
   ]
  },
  {
   "cell_type": "code",
   "execution_count": 167,
   "metadata": {},
   "outputs": [],
   "source": [
    "def linear_reg_cost_function(theta, X, y, lamb=1):\n",
    "    m = len(y)\n",
    "    hx = X.dot(theta.reshape(-1,1))\n",
    "    J = (1/(2*m))*(np.sum(np.square(hx-y))) + (lamb/(2*m))*(np.sum(np.square(theta[1:])))\n",
    "    \n",
    "    return J"
   ]
  },
  {
   "cell_type": "code",
   "execution_count": 168,
   "metadata": {},
   "outputs": [],
   "source": [
    "def linear_reg_gradient(theta, X, y, lamb=1):\n",
    "    m = len(y)\n",
    "    hx = X.dot(theta.reshape(-1,1))\n",
    "    grad = (1/m)*((hx-y).T.dot(X)) + (lamb/m)*(np.c_[[0],[theta[1:]]])\n",
    "    \n",
    "    return grad.flatten()"
   ]
  },
  {
   "cell_type": "code",
   "execution_count": 169,
   "metadata": {},
   "outputs": [],
   "source": [
    "X_in = np.c_[np.ones((X.shape[0],1)), X]\n",
    "theta_init = np.ones((X_in.shape[1]))"
   ]
  },
  {
   "cell_type": "code",
   "execution_count": 170,
   "metadata": {},
   "outputs": [
    {
     "name": "stdout",
     "output_type": "stream",
     "text": [
      "303.9931922202643\n",
      "[-15.30301567 598.25074417]\n"
     ]
    }
   ],
   "source": [
    "cost = linear_reg_cost_function(theta_init, X_in, y, 1)\n",
    "grad = linear_reg_gradient(theta_init, X_in, y, 1)\n",
    "print(cost)\n",
    "print(grad)"
   ]
  },
  {
   "cell_type": "markdown",
   "metadata": {},
   "source": [
    "### 1.4 Fitting linear regression"
   ]
  },
  {
   "cell_type": "code",
   "execution_count": 171,
   "metadata": {},
   "outputs": [],
   "source": [
    "def train_linear_reg(X, y, lamb):\n",
    "    theta = np.ones((X.shape[1]))\n",
    "    res = minimize(linear_reg_cost_function, theta, method='CG', args=(X,y,lamb), \\\n",
    "                   jac=linear_reg_gradient, options={'disp': False})\n",
    "    \n",
    "    return res.x"
   ]
  },
  {
   "cell_type": "code",
   "execution_count": 172,
   "metadata": {},
   "outputs": [],
   "source": [
    "theta = train_linear_reg(X_in, y, 0)"
   ]
  },
  {
   "cell_type": "code",
   "execution_count": 173,
   "metadata": {},
   "outputs": [],
   "source": [
    "def predict(theta, X):\n",
    "    X_2d = X.reshape(-1,1)\n",
    "    X_in = np.c_[np.ones((X_2d.shape[0],1)), X_2d]\n",
    "    return X_in.dot(theta.reshape(-1,1)).flatten()"
   ]
  },
  {
   "cell_type": "code",
   "execution_count": 174,
   "metadata": {},
   "outputs": [],
   "source": [
    "def plot_fit(theta, X, y):\n",
    "    X_min, X_max = np.min(X), np.max(X)\n",
    "    plot_X = np.linspace(X_min, X_max)\n",
    "    plot_y = predict(theta, plot_X)\n",
    "    plt.plot(plot_X, plot_y,label='Linear fit', color='r')\n",
    "    plot_data(X, y, 'Change in water level (x)', 'Water flowing out of the dam (y)', plt.gca())"
   ]
  },
  {
   "cell_type": "code",
   "execution_count": 175,
   "metadata": {},
   "outputs": [
    {
     "data": {
      "image/png": "[encoded data removed]",
      "text/plain": [
       "<Figure size 432x288 with 1 Axes>"
      ]
     },
     "metadata": {
      "needs_background": "light"
     },
     "output_type": "display_data"
    }
   ],
   "source": [
    "plot_fit(theta, X, y)"
   ]
  },
  {
   "cell_type": "markdown",
   "metadata": {},
   "source": [
    "### 2.1 Learning curves"
   ]
  },
  {
   "cell_type": "code",
   "execution_count": 176,
   "metadata": {},
   "outputs": [],
   "source": [
    "def evaluate(ground_truth, prediction):\n",
    "    return np.mean(np.square(ground_truth.ravel() - prediction.ravel()))/2"
   ]
  },
  {
   "cell_type": "code",
   "execution_count": 177,
   "metadata": {},
   "outputs": [],
   "source": [
    "def learning_curve(X, y, Xval, yval, lamb):\n",
    "    m = len(y)\n",
    "    error_train = []\n",
    "    error_val = []\n",
    "    for i in range(1, m):\n",
    "        X_in = np.c_[np.ones((i, 1)), X[:i]]\n",
    "        y_in = y[:i]\n",
    "        theta = train_linear_reg(X_in, y_in, lamb)\n",
    "        \n",
    "        pred_train = predict(theta, X[:i])\n",
    "        pred_val = predict(theta, Xval)\n",
    "\n",
    "        error_train.append(evaluate(y_in, pred_train))\n",
    "        error_val.append(evaluate(yval, pred_val))\n",
    "        \n",
    "    return error_train, error_val"
   ]
  },
  {
   "cell_type": "code",
   "execution_count": 178,
   "metadata": {},
   "outputs": [],
   "source": [
    "error_train, error_val = learning_curve(X, y, Xval, yval, 1)"
   ]
  },
  {
   "cell_type": "code",
   "execution_count": 179,
   "metadata": {},
   "outputs": [],
   "source": [
    "def plot_learning_curve(error_train, error_val, axes=None):\n",
    "    if axes == None:\n",
    "        axes = plt.gca()\n",
    "        \n",
    "    axes.plot(np.linspace(1, len(error_train), len(error_train)), error_train, label='Train')\n",
    "    axes.plot(np.linspace(1, len(error_val), len(error_val)), error_val, label='Cross Validation')\n",
    "    axes.set_xlabel('Number of training examples')\n",
    "    axes.set_ylabel('Error')\n",
    "    axes.legend()"
   ]
  },
  {
   "cell_type": "code",
   "execution_count": 180,
   "metadata": {},
   "outputs": [
    {
     "data": {
      "image/png": "[encoded data removed]",
      "text/plain": [
       "<Figure size 432x288 with 1 Axes>"
      ]
     },
     "metadata": {
      "needs_background": "light"
     },
     "output_type": "display_data"
    }
   ],
   "source": [
    "plot_learning_curve(error_train[1:], error_val[1:])"
   ]
  },
  {
   "cell_type": "markdown",
   "metadata": {},
   "source": [
    "### 3 Polynomial regression"
   ]
  },
  {
   "cell_type": "code",
   "execution_count": 181,
   "metadata": {},
   "outputs": [],
   "source": [
    "def poly_features(X, p):\n",
    "    poly = PolynomialFeatures(p)\n",
    "    return poly.fit_transform(X)"
   ]
  },
  {
   "cell_type": "code",
   "execution_count": 198,
   "metadata": {},
   "outputs": [],
   "source": [
    "def feature_normalize(X):\n",
    "    mu = np.mean(X, axis=0)\n",
    "    X_norm = X - mu\n",
    "    sigma = np.std(X_norm, axis=0)\n",
    "    X_norm = X_norm/sigma\n",
    "    \n",
    "    return X_norm, mu, sigma"
   ]
  },
  {
   "cell_type": "code",
   "execution_count": 199,
   "metadata": {},
   "outputs": [],
   "source": [
    "def feature_normalize_with_params(X, mu, sigma):\n",
    "    return (X - mu)/sigma"
   ]
  },
  {
   "cell_type": "code",
   "execution_count": 203,
   "metadata": {},
   "outputs": [],
   "source": [
    "p = 8\n",
    "X_poly = normalize(poly_features(X, p))\n",
    "X_poly = np.c_[np.ones((X_poly.shape[0],1)), X_poly]\n",
    "\n",
    "X_poly_test = normalize(poly_features(Xtest, p))\n",
    "X_poly_test = np.c_[np.ones((X_poly_test.shape[0],1)), X_poly_test]\n",
    "\n",
    "X_poly_val = normalize(poly_features(Xval, p))\n",
    "X_poly_val = np.c_[np.ones((X_poly_val.shape[0],1)), X_poly_val]"
   ]
  },
  {
   "cell_type": "markdown",
   "metadata": {},
   "source": [
    "### 3.1 Learning Polynomial Regression"
   ]
  },
  {
   "cell_type": "code",
   "execution_count": 204,
   "metadata": {},
   "outputs": [],
   "source": [
    "theta_poly = train_linear_reg(X_poly, y, 0)"
   ]
  },
  {
   "cell_type": "code",
   "execution_count": 205,
   "metadata": {},
   "outputs": [],
   "source": [
    "def plot_fit(min_x, max_x, mu, sigma, theta, p):\n",
    "    x = np.linspace(min_x - 5, max_x + 5).reshape(-1,1)\n",
    "    X_poly = normalize(poly_features(x, p))\n",
    "    X_poly = np.c_[np.ones((X_poly.shape[0],1)), X_poly]\n",
    "    plt.plot(x, X_poly.dot(theta), label='Poly fit, p = 8', color='r')\n",
    "    plot_data(X, y, 'Change in water level (x)', 'Water flowing out of the dam (y)', plt.gca())"
   ]
  },
  {
   "cell_type": "code",
   "execution_count": 206,
   "metadata": {},
   "outputs": [
    {
     "data": {
      "image/png": "[encoded data removed]",
      "text/plain": [
       "<Figure size 432x288 with 1 Axes>"
      ]
     },
     "metadata": {
      "needs_background": "light"
     },
     "output_type": "display_data"
    }
   ],
   "source": [
    "plot_fit(np.min(X), np.max(X), mu, sigma, theta_poly, p)"
   ]
  },
  {
   "cell_type": "code",
   "execution_count": null,
   "metadata": {},
   "outputs": [],
   "source": []
  }
 ],
 "metadata": {
  "kernelspec": {
   "display_name": "Python 3",
   "language": "python",
   "name": "python3"
  },
  "language_info": {
   "codemirror_mode": {
    "name": "ipython",
    "version": 3
   },
   "file_extension": ".py",
   "mimetype": "text/x-python",
   "name": "python",
   "nbconvert_exporter": "python",
   "pygments_lexer": "ipython3",
   "version": "3.7.3"
  }
 },
 "nbformat": 4,
 "nbformat_minor": 2
}
